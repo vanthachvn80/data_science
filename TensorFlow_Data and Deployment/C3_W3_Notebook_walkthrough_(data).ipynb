{
  "cells": [
    {
      "cell_type": "markdown",
      "metadata": {
        "id": "Jxv6goXm7oGF"
      },
      "source": [
        "##### Copyright 2018 The TensorFlow Authors.\n",
        "\n",
        "Licensed under the Apache License, Version 2.0 (the \"License\");"
      ]
    },
    {
      "cell_type": "code",
      "execution_count": null,
      "metadata": {
        "id": "llMNufAK7nfK"
      },
      "outputs": [],
      "source": [
        "#@title Licensed under the Apache License, Version 2.0 (the \"License\"); { display-mode: \"form\" }\n",
        "# you may not use this file except in compliance with the License.\n",
        "# You may obtain a copy of the License at\n",
        "#\n",
        "# https://www.apache.org/licenses/LICENSE-2.0\n",
        "#\n",
        "# Unless required by applicable law or agreed to in writing, software\n",
        "# distributed under the License is distributed on an \"AS IS\" BASIS,\n",
        "# WITHOUT WARRANTIES OR CONDITIONS OF ANY KIND, either express or implied.\n",
        "# See the License for the specific language governing permissions and\n",
        "# limitations under the License."
      ]
    },
    {
      "cell_type": "markdown",
      "metadata": {
        "id": "8Byow2J6LaPl"
      },
      "source": [
        "# tf.data: Build TensorFlow input pipelines"
      ]
    },
    {
      "cell_type": "markdown",
      "metadata": {
        "id": "kGXS3UWBBNoc"
      },
      "source": [
        "<table class=\"tfo-notebook-buttons\" align=\"left\">\n",
        "  <td>\n",
        "    <a target=\"_blank\" href=\"https://www.tensorflow.org/guide/data\"><img src=\"https://www.tensorflow.org/images/tf_logo_32px.png\" />View on TensorFlow.org</a>\n",
        "  </td>\n",
        "  <td>\n",
        "    <a target=\"_blank\" href=\"https://colab.research.google.com/github/tensorflow/docs/blob/master/site/en/guide/data.ipynb\"><img src=\"https://www.tensorflow.org/images/colab_logo_32px.png\" />Run in Google Colab</a>\n",
        "  </td>\n",
        "  <td>\n",
        "    <a target=\"_blank\" href=\"https://github.com/tensorflow/docs/blob/master/site/en/guide/data.ipynb\"><img src=\"https://www.tensorflow.org/images/GitHub-Mark-32px.png\" />View source on GitHub</a>\n",
        "  </td>\n",
        "  <td>\n",
        "    <a href=\"https://storage.googleapis.com/tensorflow_docs/docs/site/en/guide/data.ipynb\"><img src=\"https://www.tensorflow.org/images/download_logo_32px.png\" />Download notebook</a>\n",
        "  </td>\n",
        "</table>"
      ]
    },
    {
      "cell_type": "markdown",
      "metadata": {
        "id": "9Qo3HgDjbDcI"
      },
      "source": [
        "The `tf.data` API enables you to build complex input pipelines from simple,\n",
        "reusable pieces. For example, the pipeline for an image model might aggregate\n",
        "data from files in a distributed file system, apply random perturbations to each\n",
        "image, and merge randomly selected images into a batch for training. The\n",
        "pipeline for a text model might involve extracting symbols from raw text data,\n",
        "converting them to embedding identifiers with a lookup table, and batching\n",
        "together sequences of different lengths. The `tf.data` API makes it possible to\n",
        "handle large amounts of data, read from different data formats, and perform\n",
        "complex transformations.\n",
        "\n",
        "The `tf.data` API introduces a `tf.data.Dataset` abstraction that represents a\n",
        "sequence of elements, in which each element consists of one or more components.\n",
        "For example, in an image pipeline, an element might be a single training\n",
        "example, with a pair of tensor components representing the image and its label.\n",
        "\n",
        "There are two distinct ways to create a dataset:\n",
        "\n",
        "*   A data **source** constructs a `Dataset` from data stored in memory or in\n",
        "    one or more files.\n",
        "\n",
        "*   A data **transformation** constructs a dataset from one or more\n",
        "    `tf.data.Dataset` objects.\n"
      ]
    },
    {
      "cell_type": "code",
      "execution_count": 1,
      "metadata": {
        "id": "UJIEjEIBdf-h"
      },
      "outputs": [],
      "source": [
        "import tensorflow as tf"
      ]
    },
    {
      "cell_type": "code",
      "execution_count": 2,
      "metadata": {
        "id": "7Y0JtWBNR9E5"
      },
      "outputs": [],
      "source": [
        "import pathlib\n",
        "import os\n",
        "import matplotlib.pyplot as plt\n",
        "import pandas as pd\n",
        "import numpy as np\n",
        "\n",
        "np.set_printoptions(precision=4)"
      ]
    },
    {
      "cell_type": "markdown",
      "metadata": {
        "id": "0l4a0ALxdaWF"
      },
      "source": [
        "## Basic mechanics\n",
        "<a id=\"basic-mechanics\"/>\n",
        "\n",
        "To create an input pipeline, you must start with a data *source*. For example,\n",
        "to construct a `Dataset` from data in memory, you can use\n",
        "`tf.data.Dataset.from_tensors()` or `tf.data.Dataset.from_tensor_slices()`.\n",
        "Alternatively, if your input data is stored in a file in the recommended\n",
        "TFRecord format, you can use `tf.data.TFRecordDataset()`.\n",
        "\n",
        "Once you have a `Dataset` object, you can *transform* it into a new `Dataset` by\n",
        "chaining method calls on the `tf.data.Dataset` object. For example, you can\n",
        "apply per-element transformations such as `Dataset.map`, and multi-element\n",
        "transformations such as `Dataset.batch`. Refer to the documentation for\n",
        "`tf.data.Dataset` for a complete list of transformations.\n",
        "\n",
        "The `Dataset` object is a Python iterable. This makes it possible to consume its\n",
        "elements using a for loop:"
      ]
    },
    {
      "cell_type": "code",
      "execution_count": 3,
      "metadata": {
        "id": "0F-FDnjB6t6J",
        "colab": {
          "base_uri": "https://localhost:8080/"
        },
        "outputId": "c4984af3-62b0-4e6c-ceb7-02f81e503cf9"
      },
      "outputs": [
        {
          "output_type": "execute_result",
          "data": {
            "text/plain": [
              "<TensorSliceDataset element_spec=TensorSpec(shape=(), dtype=tf.int32, name=None)>"
            ]
          },
          "metadata": {},
          "execution_count": 3
        }
      ],
      "source": [
        "dataset = tf.data.Dataset.from_tensor_slices([8, 3, 0, 8, 2, 1])\n",
        "dataset"
      ]
    },
    {
      "cell_type": "code",
      "execution_count": 4,
      "metadata": {
        "id": "pwJsRJ-FbDcJ",
        "colab": {
          "base_uri": "https://localhost:8080/"
        },
        "outputId": "3d9b7ee7-89d4-4fb8-dc3b-1d41c7b1cc3a"
      },
      "outputs": [
        {
          "output_type": "stream",
          "name": "stdout",
          "text": [
            "8\n",
            "3\n",
            "0\n",
            "8\n",
            "2\n",
            "1\n"
          ]
        }
      ],
      "source": [
        "for elem in dataset:\n",
        "  print(elem.numpy())"
      ]
    },
    {
      "cell_type": "markdown",
      "metadata": {
        "id": "m0yy80MobDcM"
      },
      "source": [
        "Or by explicitly creating a Python iterator using `iter` and consuming its\n",
        "elements using `next`:"
      ]
    },
    {
      "cell_type": "code",
      "execution_count": 5,
      "metadata": {
        "id": "03w9oxFfbDcM",
        "colab": {
          "base_uri": "https://localhost:8080/"
        },
        "outputId": "4e3e7d6d-00c6-4627-ff2b-f6a7515e953f"
      },
      "outputs": [
        {
          "output_type": "stream",
          "name": "stdout",
          "text": [
            "8\n"
          ]
        }
      ],
      "source": [
        "it = iter(dataset)\n",
        "\n",
        "print(next(it).numpy())"
      ]
    },
    {
      "cell_type": "markdown",
      "metadata": {
        "id": "Q4CgCL8qbDcO"
      },
      "source": [
        "Alternatively, dataset elements can be consumed using the `reduce`\n",
        "transformation, which reduces all elements to produce a single result. The\n",
        "following example illustrates how to use the `reduce` transformation to compute\n",
        "the sum of a dataset of integers."
      ]
    },
    {
      "cell_type": "code",
      "execution_count": 6,
      "metadata": {
        "id": "C2bHAeNxbDcO",
        "colab": {
          "base_uri": "https://localhost:8080/"
        },
        "outputId": "cf91d133-14d1-47ee-aa1d-1c9aadde3c10"
      },
      "outputs": [
        {
          "output_type": "stream",
          "name": "stdout",
          "text": [
            "22\n"
          ]
        }
      ],
      "source": [
        "print(dataset.reduce(0, lambda state, value: state + value).numpy())"
      ]
    },
    {
      "cell_type": "markdown",
      "metadata": {
        "id": "B2Fzwt2nbDcR"
      },
      "source": [
        "<!-- TODO(jsimsa): Talk about `tf.function` support. -->\n",
        "\n",
        "<a id=\"dataset_structure\"></a>\n",
        "### Dataset structure\n",
        "\n",
        "A dataset produces a sequence of *elements*, where each element is\n",
        "the same (nested) structure of *components*. Individual components\n",
        "of the structure can be of any type representable by\n",
        "`tf.TypeSpec`, including `tf.Tensor`, `tf.sparse.SparseTensor`,\n",
        "`tf.RaggedTensor`, `tf.TensorArray`, or `tf.data.Dataset`.\n",
        "\n",
        "The Python constructs that can be used to express the (nested)\n",
        "structure of elements include `tuple`, `dict`, `NamedTuple`, and\n",
        "`OrderedDict`. In particular, `list` is not a valid construct for\n",
        "expressing the structure of dataset elements. This is because\n",
        "early `tf.data` users felt strongly about `list` inputs (for example, when passed\n",
        "to `tf.data.Dataset.from_tensors`) being automatically packed as\n",
        "tensors and `list` outputs (for example, return values of user-defined\n",
        "functions) being coerced into a `tuple`. As a consequence, if you\n",
        "would like a `list` input to be treated as a structure, you need\n",
        "to convert it into `tuple` and if you would like a `list` output\n",
        "to be a single component, then you need to explicitly pack it\n",
        "using `tf.stack`.\n",
        "\n",
        "The `Dataset.element_spec` property allows you to inspect the type\n",
        "of each element component. The property returns a *nested structure*\n",
        "of `tf.TypeSpec` objects, matching the structure of the element,\n",
        "which may be a single component, a tuple of components, or a nested\n",
        "tuple of components. For example:"
      ]
    },
    {
      "cell_type": "code",
      "execution_count": 7,
      "metadata": {
        "id": "Mg0m1beIhXGn",
        "colab": {
          "base_uri": "https://localhost:8080/"
        },
        "outputId": "20412073-5605-4937-af3a-31344074195c"
      },
      "outputs": [
        {
          "output_type": "execute_result",
          "data": {
            "text/plain": [
              "TensorSpec(shape=(10,), dtype=tf.float32, name=None)"
            ]
          },
          "metadata": {},
          "execution_count": 7
        }
      ],
      "source": [
        "dataset1 = tf.data.Dataset.from_tensor_slices(tf.random.uniform([4, 10]))\n",
        "\n",
        "dataset1.element_spec"
      ]
    },
    {
      "cell_type": "code",
      "execution_count": 8,
      "metadata": {
        "id": "cwyemaghhXaG",
        "colab": {
          "base_uri": "https://localhost:8080/"
        },
        "outputId": "1ac0e9e8-5479-414e-b190-ffa92a72eea4"
      },
      "outputs": [
        {
          "output_type": "execute_result",
          "data": {
            "text/plain": [
              "(TensorSpec(shape=(), dtype=tf.float32, name=None),\n",
              " TensorSpec(shape=(100,), dtype=tf.int32, name=None))"
            ]
          },
          "metadata": {},
          "execution_count": 8
        }
      ],
      "source": [
        "dataset2 = tf.data.Dataset.from_tensor_slices(\n",
        "   (tf.random.uniform([4]),\n",
        "    tf.random.uniform([4, 100], maxval=100, dtype=tf.int32)))\n",
        "\n",
        "dataset2.element_spec"
      ]
    },
    {
      "cell_type": "code",
      "execution_count": 9,
      "metadata": {
        "id": "1CL7aB0ahXn_",
        "colab": {
          "base_uri": "https://localhost:8080/"
        },
        "outputId": "d5703047-d0fc-4d74-af77-398cc7540eef"
      },
      "outputs": [
        {
          "output_type": "execute_result",
          "data": {
            "text/plain": [
              "(TensorSpec(shape=(10,), dtype=tf.float32, name=None),\n",
              " (TensorSpec(shape=(), dtype=tf.float32, name=None),\n",
              "  TensorSpec(shape=(100,), dtype=tf.int32, name=None)))"
            ]
          },
          "metadata": {},
          "execution_count": 9
        }
      ],
      "source": [
        "dataset3 = tf.data.Dataset.zip((dataset1, dataset2))\n",
        "\n",
        "dataset3.element_spec"
      ]
    },
    {
      "cell_type": "code",
      "execution_count": 10,
      "metadata": {
        "id": "m5bz7R1xhX1f",
        "colab": {
          "base_uri": "https://localhost:8080/"
        },
        "outputId": "4cfe8f5e-659b-41e7-f1d8-6f8df026b543"
      },
      "outputs": [
        {
          "output_type": "execute_result",
          "data": {
            "text/plain": [
              "SparseTensorSpec(TensorShape([3, 4]), tf.int32)"
            ]
          },
          "metadata": {},
          "execution_count": 10
        }
      ],
      "source": [
        "# Dataset containing a sparse tensor.\n",
        "dataset4 = tf.data.Dataset.from_tensors(tf.SparseTensor(indices=[[0, 0], [1, 2]], values=[1, 2], dense_shape=[3, 4]))\n",
        "\n",
        "dataset4.element_spec"
      ]
    },
    {
      "cell_type": "code",
      "execution_count": 11,
      "metadata": {
        "id": "lVOPHur_hYQv",
        "colab": {
          "base_uri": "https://localhost:8080/"
        },
        "outputId": "97867967-0da4-4bfe-fd3b-7367a69a3d81"
      },
      "outputs": [
        {
          "output_type": "execute_result",
          "data": {
            "text/plain": [
              "tensorflow.python.framework.sparse_tensor.SparseTensor"
            ]
          },
          "metadata": {},
          "execution_count": 11
        }
      ],
      "source": [
        "# Use value_type to see the type of value represented by the element spec\n",
        "dataset4.element_spec.value_type"
      ]
    },
    {
      "cell_type": "markdown",
      "metadata": {
        "id": "r5xNsFFvhUnr"
      },
      "source": [
        "The `Dataset` transformations support datasets of any structure. When using the\n",
        "`Dataset.map`, and `Dataset.filter` transformations,\n",
        "which apply a function to each element, the element structure determines the\n",
        "arguments of the function:"
      ]
    },
    {
      "cell_type": "code",
      "execution_count": 12,
      "metadata": {
        "id": "2myAr3Pxd-zF",
        "colab": {
          "base_uri": "https://localhost:8080/"
        },
        "outputId": "588eced0-6a96-46c0-b2de-2ad9e3c57bf9"
      },
      "outputs": [
        {
          "output_type": "execute_result",
          "data": {
            "text/plain": [
              "<TensorSliceDataset element_spec=TensorSpec(shape=(10,), dtype=tf.int32, name=None)>"
            ]
          },
          "metadata": {},
          "execution_count": 12
        }
      ],
      "source": [
        "dataset1 = tf.data.Dataset.from_tensor_slices(\n",
        "    tf.random.uniform([4, 10], minval=1, maxval=10, dtype=tf.int32))\n",
        "\n",
        "dataset1"
      ]
    },
    {
      "cell_type": "code",
      "execution_count": 13,
      "metadata": {
        "id": "woPXMP14gUTg",
        "colab": {
          "base_uri": "https://localhost:8080/"
        },
        "outputId": "fe2eec74-bf0c-412e-9d6e-e3c5f4f1bf66"
      },
      "outputs": [
        {
          "output_type": "stream",
          "name": "stdout",
          "text": [
            "[2 9 5 8 3 8 2 1 9 1]\n",
            "[3 2 2 5 7 1 6 1 3 8]\n",
            "[4 2 1 9 1 8 6 2 6 1]\n",
            "[2 2 7 6 6 5 1 9 6 9]\n"
          ]
        }
      ],
      "source": [
        "for z in dataset1:\n",
        "  print(z.numpy())"
      ]
    },
    {
      "cell_type": "code",
      "execution_count": 14,
      "metadata": {
        "id": "53PA4x6XgLar",
        "colab": {
          "base_uri": "https://localhost:8080/"
        },
        "outputId": "171aaa85-3f4f-4a07-8d07-67be61080bd8"
      },
      "outputs": [
        {
          "output_type": "execute_result",
          "data": {
            "text/plain": [
              "<TensorSliceDataset element_spec=(TensorSpec(shape=(), dtype=tf.float32, name=None), TensorSpec(shape=(100,), dtype=tf.int32, name=None))>"
            ]
          },
          "metadata": {},
          "execution_count": 14
        }
      ],
      "source": [
        "dataset2 = tf.data.Dataset.from_tensor_slices(\n",
        "   (tf.random.uniform([4]),\n",
        "    tf.random.uniform([4, 100], maxval=100, dtype=tf.int32)))\n",
        "\n",
        "dataset2"
      ]
    },
    {
      "cell_type": "code",
      "execution_count": 15,
      "metadata": {
        "id": "2ju4sNSebDcR",
        "colab": {
          "base_uri": "https://localhost:8080/"
        },
        "outputId": "91b49b37-b4e6-4e24-8522-d3a99206af14"
      },
      "outputs": [
        {
          "output_type": "execute_result",
          "data": {
            "text/plain": [
              "<ZipDataset element_spec=(TensorSpec(shape=(10,), dtype=tf.int32, name=None), (TensorSpec(shape=(), dtype=tf.float32, name=None), TensorSpec(shape=(100,), dtype=tf.int32, name=None)))>"
            ]
          },
          "metadata": {},
          "execution_count": 15
        }
      ],
      "source": [
        "dataset3 = tf.data.Dataset.zip((dataset1, dataset2))\n",
        "\n",
        "dataset3"
      ]
    },
    {
      "cell_type": "code",
      "execution_count": 16,
      "metadata": {
        "id": "BgxsfAS2g6gk",
        "colab": {
          "base_uri": "https://localhost:8080/"
        },
        "outputId": "8f9c2625-0c48-4538-85c4-538bc9a2bed0"
      },
      "outputs": [
        {
          "output_type": "stream",
          "name": "stdout",
          "text": [
            "shapes: (10,), (), (100,)\n",
            "shapes: (10,), (), (100,)\n",
            "shapes: (10,), (), (100,)\n",
            "shapes: (10,), (), (100,)\n"
          ]
        }
      ],
      "source": [
        "for a, (b,c) in dataset3:\n",
        "  print('shapes: {a.shape}, {b.shape}, {c.shape}'.format(a=a, b=b, c=c))"
      ]
    },
    {
      "cell_type": "markdown",
      "metadata": {
        "id": "M1s2K0g-bDcT"
      },
      "source": [
        "## Reading input data\n"
      ]
    },
    {
      "cell_type": "markdown",
      "metadata": {
        "id": "F3JG2f0h2683"
      },
      "source": [
        "### Consuming NumPy arrays\n",
        "\n",
        "Refer to the [Loading NumPy arrays](../tutorials/load_data/numpy.ipynb) tutorial for more examples.\n",
        "\n",
        "If all of your input data fits in memory, the simplest way to create a `Dataset`\n",
        "from them is to convert them to `tf.Tensor` objects and use\n",
        "`Dataset.from_tensor_slices`."
      ]
    },
    {
      "cell_type": "code",
      "execution_count": 17,
      "metadata": {
        "id": "NmaE6PjjhQ47",
        "colab": {
          "base_uri": "https://localhost:8080/"
        },
        "outputId": "be693ec7-f3ad-43f9-8059-2c8cbc8cfae4"
      },
      "outputs": [
        {
          "output_type": "stream",
          "name": "stdout",
          "text": [
            "Downloading data from https://storage.googleapis.com/tensorflow/tf-keras-datasets/train-labels-idx1-ubyte.gz\n",
            "29515/29515 [==============================] - 0s 0us/step\n",
            "Downloading data from https://storage.googleapis.com/tensorflow/tf-keras-datasets/train-images-idx3-ubyte.gz\n",
            "26421880/26421880 [==============================] - 0s 0us/step\n",
            "Downloading data from https://storage.googleapis.com/tensorflow/tf-keras-datasets/t10k-labels-idx1-ubyte.gz\n",
            "5148/5148 [==============================] - 0s 0us/step\n",
            "Downloading data from https://storage.googleapis.com/tensorflow/tf-keras-datasets/t10k-images-idx3-ubyte.gz\n",
            "4422102/4422102 [==============================] - 0s 0us/step\n"
          ]
        }
      ],
      "source": [
        "train, test = tf.keras.datasets.fashion_mnist.load_data()"
      ]
    },
    {
      "cell_type": "code",
      "execution_count": 18,
      "metadata": {
        "id": "J6cNiuDBbDcU",
        "colab": {
          "base_uri": "https://localhost:8080/"
        },
        "outputId": "374bbacc-9302-4ee9-feba-54b54a261fdf"
      },
      "outputs": [
        {
          "output_type": "execute_result",
          "data": {
            "text/plain": [
              "<TensorSliceDataset element_spec=(TensorSpec(shape=(28, 28), dtype=tf.float64, name=None), TensorSpec(shape=(), dtype=tf.uint8, name=None))>"
            ]
          },
          "metadata": {},
          "execution_count": 18
        }
      ],
      "source": [
        "images, labels = train\n",
        "images = images/255\n",
        "\n",
        "dataset = tf.data.Dataset.from_tensor_slices((images, labels))\n",
        "dataset"
      ]
    },
    {
      "cell_type": "markdown",
      "metadata": {
        "id": "XkwrDHN5bDcW"
      },
      "source": [
        "Note: The above code snippet will embed the `features` and `labels` arrays\n",
        "in your TensorFlow graph as `tf.constant()` operations. This works well for a\n",
        "small dataset, but wastes memory---because the contents of the array will be\n",
        "copied multiple times---and can run into the 2GB limit for the `tf.GraphDef`\n",
        "protocol buffer."
      ]
    },
    {
      "cell_type": "markdown",
      "metadata": {
        "id": "pO4ua2gEmIhR"
      },
      "source": [
        "### Consuming Python generators\n",
        "\n",
        "Another common data source that can easily be ingested as a `tf.data.Dataset` is the python generator.\n",
        "\n",
        "Caution: While this is a convenient approach it has limited portability and scalability. It must run in the same python process that created the generator, and is still subject to the Python [GIL](https://en.wikipedia.org/wiki/Global_interpreter_lock)."
      ]
    },
    {
      "cell_type": "code",
      "execution_count": 19,
      "metadata": {
        "id": "9njpME-jmDza"
      },
      "outputs": [],
      "source": [
        "def count(stop):\n",
        "  i = 0\n",
        "  while i<stop:\n",
        "    yield i\n",
        "    i += 1"
      ]
    },
    {
      "cell_type": "code",
      "execution_count": 20,
      "metadata": {
        "id": "xwqLrjnTpD8Y",
        "colab": {
          "base_uri": "https://localhost:8080/"
        },
        "outputId": "0f60c46f-2613-4b7e-ae62-4da4ce5270a5"
      },
      "outputs": [
        {
          "output_type": "stream",
          "name": "stdout",
          "text": [
            "0\n",
            "1\n",
            "2\n",
            "3\n",
            "4\n"
          ]
        }
      ],
      "source": [
        "for n in count(5):\n",
        "  print(n)"
      ]
    },
    {
      "cell_type": "markdown",
      "metadata": {
        "id": "D_BB_PhxnVVx"
      },
      "source": [
        "The `Dataset.from_generator` constructor converts the python generator to a fully functional `tf.data.Dataset`.\n",
        "\n",
        "The constructor takes a callable as input, not an iterator. This allows it to restart the generator when it reaches the end. It takes an optional `args` argument, which is passed as the callable's arguments.\n",
        "\n",
        "The `output_types` argument is required because `tf.data` builds a `tf.Graph` internally, and graph edges require a `tf.dtype`."
      ]
    },
    {
      "cell_type": "code",
      "execution_count": 21,
      "metadata": {
        "id": "GFga_OTwm0Je"
      },
      "outputs": [],
      "source": [
        "ds_counter = tf.data.Dataset.from_generator(count, args=[25], output_types=tf.int32, output_shapes = (), )"
      ]
    },
    {
      "cell_type": "code",
      "execution_count": 22,
      "metadata": {
        "id": "fel1SUuBnDUE",
        "colab": {
          "base_uri": "https://localhost:8080/"
        },
        "outputId": "eb5495b5-a4e3-4853-fa14-5806876d6cca"
      },
      "outputs": [
        {
          "output_type": "stream",
          "name": "stdout",
          "text": [
            "[0 1 2 3 4 5 6 7 8 9]\n",
            "[10 11 12 13 14 15 16 17 18 19]\n",
            "[20 21 22 23 24  0  1  2  3  4]\n",
            "[ 5  6  7  8  9 10 11 12 13 14]\n",
            "[15 16 17 18 19 20 21 22 23 24]\n",
            "[0 1 2 3 4 5 6 7 8 9]\n",
            "[10 11 12 13 14 15 16 17 18 19]\n",
            "[20 21 22 23 24  0  1  2  3  4]\n",
            "[ 5  6  7  8  9 10 11 12 13 14]\n",
            "[15 16 17 18 19 20 21 22 23 24]\n"
          ]
        }
      ],
      "source": [
        "for count_batch in ds_counter.repeat().batch(10).take(10):\n",
        "  print(count_batch.numpy())"
      ]
    },
    {
      "cell_type": "markdown",
      "metadata": {
        "id": "wxy9hDMTq1zD"
      },
      "source": [
        "The `output_shapes` argument is not *required* but is highly recommended as many TensorFlow operations do not support tensors with an unknown rank. If the length of a particular axis is unknown or variable, set it as `None` in the `output_shapes`.\n",
        "\n",
        "It's also important to note that the `output_shapes` and `output_types` follow the same nesting rules as other dataset methods.\n",
        "\n",
        "Here is an example generator that demonstrates both aspects: it returns tuples of arrays, where the second array is a vector with unknown length."
      ]
    },
    {
      "cell_type": "code",
      "execution_count": 23,
      "metadata": {
        "id": "allFX1g8rGKe"
      },
      "outputs": [],
      "source": [
        "def gen_series():\n",
        "  i = 0\n",
        "  while True:\n",
        "    size = np.random.randint(0, 10)\n",
        "    yield i, np.random.normal(size=(size,))\n",
        "    i += 1"
      ]
    },
    {
      "cell_type": "code",
      "execution_count": 24,
      "metadata": {
        "id": "6Ku26Yb9rcJX",
        "colab": {
          "base_uri": "https://localhost:8080/"
        },
        "outputId": "753c9b16-eb39-4e8b-cac1-dfd8e4fceb79"
      },
      "outputs": [
        {
          "output_type": "stream",
          "name": "stdout",
          "text": [
            "0 : [ 1.3009  0.5475 -0.751   1.6009  1.1257 -2.2541 -2.9408]\n",
            "1 : [-0.0097  0.0274  0.4578 -1.3999]\n",
            "2 : [-1.1095 -1.3268  2.6185 -0.9554]\n",
            "3 : [ 0.6458 -0.6858]\n",
            "4 : []\n",
            "5 : [0.7593]\n",
            "6 : [-1.6173  0.7454  0.3207  0.0557  0.5469  1.7947]\n"
          ]
        }
      ],
      "source": [
        "for i, series in gen_series():\n",
        "  print(i, \":\", str(series))\n",
        "  if i > 5:\n",
        "    break"
      ]
    },
    {
      "cell_type": "markdown",
      "metadata": {
        "id": "LmkynGilx0qf"
      },
      "source": [
        "The first output is an `int32` the second is a `float32`.\n",
        "\n",
        "The first item is a scalar, shape `()`, and the second is a vector of unknown length, shape `(None,)` "
      ]
    },
    {
      "cell_type": "code",
      "execution_count": 25,
      "metadata": {
        "id": "zDTfhEzhsliM",
        "colab": {
          "base_uri": "https://localhost:8080/"
        },
        "outputId": "e8cd6690-4116-4734-ecbb-6fbd21939320"
      },
      "outputs": [
        {
          "output_type": "execute_result",
          "data": {
            "text/plain": [
              "<FlatMapDataset element_spec=(TensorSpec(shape=(), dtype=tf.int32, name=None), TensorSpec(shape=(None,), dtype=tf.float32, name=None))>"
            ]
          },
          "metadata": {},
          "execution_count": 25
        }
      ],
      "source": [
        "ds_series = tf.data.Dataset.from_generator(\n",
        "    gen_series, \n",
        "    output_types=(tf.int32, tf.float32), \n",
        "    output_shapes=((), (None,)))\n",
        "\n",
        "ds_series"
      ]
    },
    {
      "cell_type": "markdown",
      "metadata": {
        "id": "WWxvSyQiyN0o"
      },
      "source": [
        "Now it can be used like a regular `tf.data.Dataset`. Note that when batching a dataset with a variable shape, you need to use `Dataset.padded_batch`."
      ]
    },
    {
      "cell_type": "code",
      "execution_count": 26,
      "metadata": {
        "id": "A7jEpj3As1lO",
        "colab": {
          "base_uri": "https://localhost:8080/"
        },
        "outputId": "1fa693bc-a0e8-45d8-f216-840c6f3744eb"
      },
      "outputs": [
        {
          "output_type": "stream",
          "name": "stdout",
          "text": [
            "[ 7 16 19  4 14  9 17  0  3 13]\n",
            "\n",
            "[[ 0.8421 -1.2576 -1.0664 -0.5545 -0.692   1.1608  0.8283  0.9858  2.0289]\n",
            " [ 0.0026 -0.1747 -1.0603 -0.4601  0.      0.      0.      0.      0.    ]\n",
            " [-0.3363  1.3008  1.093   0.      0.      0.      0.      0.      0.    ]\n",
            " [ 0.2969  0.89    0.0283 -0.3311 -1.0508  0.7591  0.      0.      0.    ]\n",
            " [ 0.4477 -0.5927 -1.6175  0.      0.      0.      0.      0.      0.    ]\n",
            " [-0.4518  0.299   1.4567  0.      0.      0.      0.      0.      0.    ]\n",
            " [ 0.7067 -0.5442 -0.8621  0.      0.      0.      0.      0.      0.    ]\n",
            " [-1.0804  1.3728  0.4816 -0.0801 -0.7438 -0.6999  0.416   0.      0.    ]\n",
            " [-0.8178  1.6543 -0.2897  0.5468 -1.1146  1.66    0.181  -0.9407  0.    ]\n",
            " [ 0.9911  0.4016  1.5427  0.5348 -0.1611 -0.0228 -0.639   0.6168 -0.9529]]\n"
          ]
        }
      ],
      "source": [
        "ds_series_batch = ds_series.shuffle(20).padded_batch(10)\n",
        "\n",
        "ids, sequence_batch = next(iter(ds_series_batch))\n",
        "print(ids.numpy())\n",
        "print()\n",
        "print(sequence_batch.numpy())"
      ]
    },
    {
      "cell_type": "markdown",
      "metadata": {
        "id": "_hcqOccJ1CxG"
      },
      "source": [
        "For a more realistic example, try wrapping `preprocessing.image.ImageDataGenerator` as a `tf.data.Dataset`.\n",
        "\n",
        "First download the data:"
      ]
    },
    {
      "cell_type": "code",
      "execution_count": 27,
      "metadata": {
        "id": "g-_JCFRQ1CXM",
        "colab": {
          "base_uri": "https://localhost:8080/"
        },
        "outputId": "44ca7aaa-29c0-4dac-b9a4-5c921ece5a08"
      },
      "outputs": [
        {
          "output_type": "stream",
          "name": "stdout",
          "text": [
            "Downloading data from https://storage.googleapis.com/download.tensorflow.org/example_images/flower_photos.tgz\n",
            "228813984/228813984 [==============================] - 2s 0us/step\n"
          ]
        }
      ],
      "source": [
        "flowers = tf.keras.utils.get_file(\n",
        "    'flower_photos',\n",
        "    'https://storage.googleapis.com/download.tensorflow.org/example_images/flower_photos.tgz',\n",
        "    untar=True)"
      ]
    },
    {
      "cell_type": "markdown",
      "metadata": {
        "id": "UIjPhvQ87jUT"
      },
      "source": [
        "Create the `image.ImageDataGenerator`"
      ]
    },
    {
      "cell_type": "code",
      "execution_count": 28,
      "metadata": {
        "id": "vPCZeBQE5DfH"
      },
      "outputs": [],
      "source": [
        "img_gen = tf.keras.preprocessing.image.ImageDataGenerator(rescale=1./255, rotation_range=20)"
      ]
    },
    {
      "cell_type": "code",
      "execution_count": 29,
      "metadata": {
        "id": "my4PxqfH26p6",
        "colab": {
          "base_uri": "https://localhost:8080/"
        },
        "outputId": "707127cd-88a1-4156-f66a-29b47dcd11c3"
      },
      "outputs": [
        {
          "output_type": "stream",
          "name": "stdout",
          "text": [
            "Found 3670 images belonging to 5 classes.\n"
          ]
        }
      ],
      "source": [
        "images, labels = next(img_gen.flow_from_directory(flowers))"
      ]
    },
    {
      "cell_type": "code",
      "execution_count": 30,
      "metadata": {
        "id": "Hd96nH1w3eKH",
        "colab": {
          "base_uri": "https://localhost:8080/"
        },
        "outputId": "6db48bbf-e076-48d4-8b99-39bcde315ead"
      },
      "outputs": [
        {
          "output_type": "stream",
          "name": "stdout",
          "text": [
            "float32 (32, 256, 256, 3)\n",
            "float32 (32, 5)\n"
          ]
        }
      ],
      "source": [
        "print(images.dtype, images.shape)\n",
        "print(labels.dtype, labels.shape)"
      ]
    },
    {
      "cell_type": "code",
      "execution_count": 31,
      "metadata": {
        "id": "KvRwvt5E2rTH",
        "colab": {
          "base_uri": "https://localhost:8080/"
        },
        "outputId": "02807dfa-b5a5-4fe4-e714-0fc4611d4e34"
      },
      "outputs": [
        {
          "output_type": "execute_result",
          "data": {
            "text/plain": [
              "(TensorSpec(shape=(32, 256, 256, 3), dtype=tf.float32, name=None),\n",
              " TensorSpec(shape=(32, 5), dtype=tf.float32, name=None))"
            ]
          },
          "metadata": {},
          "execution_count": 31
        }
      ],
      "source": [
        "ds = tf.data.Dataset.from_generator(\n",
        "    lambda: img_gen.flow_from_directory(flowers), \n",
        "    output_types=(tf.float32, tf.float32), \n",
        "    output_shapes=([32,256,256,3], [32,5])\n",
        ")\n",
        "\n",
        "ds.element_spec"
      ]
    },
    {
      "cell_type": "code",
      "execution_count": 32,
      "metadata": {
        "id": "LcaULBCXj_2_",
        "colab": {
          "base_uri": "https://localhost:8080/"
        },
        "outputId": "5ea711bd-30d6-4bf8-9eda-43e3614eca54"
      },
      "outputs": [
        {
          "output_type": "stream",
          "name": "stdout",
          "text": [
            "Found 3670 images belonging to 5 classes.\n",
            "images.shape:  (32, 256, 256, 3)\n",
            "labels.shape:  (32, 5)\n"
          ]
        }
      ],
      "source": [
        "for images, labels in ds.take(1):\n",
        "  print('images.shape: ', images.shape)\n",
        "  print('labels.shape: ', labels.shape)\n"
      ]
    },
    {
      "cell_type": "markdown",
      "metadata": {
        "id": "ma4XoYzih2f4"
      },
      "source": [
        "### Consuming TFRecord data\n",
        "\n",
        "Refer to the [Loading TFRecords](../tutorials/load_data/tfrecord.ipynb) tutorial for an end-to-end example.\n",
        "\n",
        "The `tf.data` API supports a variety of file formats so that you can process\n",
        "large datasets that do not fit in memory. For example, the TFRecord file format\n",
        "is a simple record-oriented binary format that many TensorFlow applications use\n",
        "for training data. The `tf.data.TFRecordDataset` class enables you to\n",
        "stream over the contents of one or more TFRecord files as part of an input\n",
        "pipeline."
      ]
    },
    {
      "cell_type": "markdown",
      "metadata": {
        "id": "LiatWUloRJc4"
      },
      "source": [
        "Here is an example using the test file from the French Street Name Signs (FSNS)."
      ]
    },
    {
      "cell_type": "code",
      "execution_count": 33,
      "metadata": {
        "id": "jZo_4fzdbDcW",
        "colab": {
          "base_uri": "https://localhost:8080/"
        },
        "outputId": "76ae9c42-0a90-4d8b-ede3-e368f449b694"
      },
      "outputs": [
        {
          "output_type": "stream",
          "name": "stdout",
          "text": [
            "Downloading data from https://storage.googleapis.com/download.tensorflow.org/data/fsns-20160927/testdata/fsns-00000-of-00001\n",
            "7904079/7904079 [==============================] - 0s 0us/step\n"
          ]
        }
      ],
      "source": [
        "# Creates a dataset that reads all of the examples from two files.\n",
        "fsns_test_file = tf.keras.utils.get_file(\"fsns.tfrec\", \"https://storage.googleapis.com/download.tensorflow.org/data/fsns-20160927/testdata/fsns-00000-of-00001\")"
      ]
    },
    {
      "cell_type": "markdown",
      "metadata": {
        "id": "seD5bOH3RhBP"
      },
      "source": [
        "The `filenames` argument to the `TFRecordDataset` initializer can either be a\n",
        "string, a list of strings, or a `tf.Tensor` of strings. Therefore if you have\n",
        "two sets of files for training and validation purposes, you can create a factory\n",
        "method that produces the dataset, taking filenames as an input argument:\n"
      ]
    },
    {
      "cell_type": "code",
      "execution_count": 34,
      "metadata": {
        "id": "e2WV5d7DRUA-",
        "colab": {
          "base_uri": "https://localhost:8080/"
        },
        "outputId": "12b66066-e59b-410f-b6d1-1a3e4ca13284"
      },
      "outputs": [
        {
          "output_type": "execute_result",
          "data": {
            "text/plain": [
              "<TFRecordDatasetV2 element_spec=TensorSpec(shape=(), dtype=tf.string, name=None)>"
            ]
          },
          "metadata": {},
          "execution_count": 34
        }
      ],
      "source": [
        "dataset = tf.data.TFRecordDataset(filenames = [fsns_test_file])\n",
        "dataset"
      ]
    },
    {
      "cell_type": "markdown",
      "metadata": {
        "id": "62NC3vz9U8ww"
      },
      "source": [
        "Many TensorFlow projects use serialized `tf.train.Example` records in their TFRecord files. These need to be decoded before they can be inspected:"
      ]
    },
    {
      "cell_type": "code",
      "execution_count": 35,
      "metadata": {
        "id": "3tk29nlMl5P3",
        "colab": {
          "base_uri": "https://localhost:8080/"
        },
        "outputId": "2956cbfe-c301-47c9-ee95-c539b1ca9dbe"
      },
      "outputs": [
        {
          "output_type": "execute_result",
          "data": {
            "text/plain": [
              "bytes_list {\n",
              "  value: \"Rue Perreyon\"\n",
              "}"
            ]
          },
          "metadata": {},
          "execution_count": 35
        }
      ],
      "source": [
        "raw_example = next(iter(dataset))\n",
        "parsed = tf.train.Example.FromString(raw_example.numpy())\n",
        "\n",
        "parsed.features.feature['image/text']"
      ]
    },
    {
      "cell_type": "markdown",
      "metadata": {
        "id": "qJAUib10bDcb"
      },
      "source": [
        "### Consuming text data\n",
        "\n",
        "Refer to the [Load text](../tutorials/load_data/text.ipynb) tutorial for an end-to-end example.\n",
        "\n",
        "Many datasets are distributed as one or more text files. The\n",
        "`tf.data.TextLineDataset` provides an easy way to extract lines from one or more\n",
        "text files. Given one or more filenames, a `TextLineDataset` will produce one\n",
        "string-valued element per line of those files."
      ]
    },
    {
      "cell_type": "code",
      "execution_count": 36,
      "metadata": {
        "id": "hQMoFu2TbDcc",
        "colab": {
          "base_uri": "https://localhost:8080/"
        },
        "outputId": "c10ea48f-4f0d-4b75-989e-67bafe569fa7"
      },
      "outputs": [
        {
          "output_type": "stream",
          "name": "stdout",
          "text": [
            "Downloading data from https://storage.googleapis.com/download.tensorflow.org/data/illiad/cowper.txt\n",
            "815980/815980 [==============================] - 0s 0us/step\n",
            "Downloading data from https://storage.googleapis.com/download.tensorflow.org/data/illiad/derby.txt\n",
            "809730/809730 [==============================] - 0s 0us/step\n",
            "Downloading data from https://storage.googleapis.com/download.tensorflow.org/data/illiad/butler.txt\n",
            "807992/807992 [==============================] - 0s 0us/step\n"
          ]
        }
      ],
      "source": [
        "directory_url = 'https://storage.googleapis.com/download.tensorflow.org/data/illiad/'\n",
        "file_names = ['cowper.txt', 'derby.txt', 'butler.txt']\n",
        "\n",
        "file_paths = [\n",
        "    tf.keras.utils.get_file(file_name, directory_url + file_name)\n",
        "    for file_name in file_names\n",
        "]"
      ]
    },
    {
      "cell_type": "code",
      "execution_count": 37,
      "metadata": {
        "id": "il4cOjiVwj95"
      },
      "outputs": [],
      "source": [
        "dataset = tf.data.TextLineDataset(file_paths)"
      ]
    },
    {
      "cell_type": "markdown",
      "metadata": {
        "id": "MevIbDiwy4MC"
      },
      "source": [
        "Here are the first few lines of the first file:"
      ]
    },
    {
      "cell_type": "code",
      "execution_count": 38,
      "metadata": {
        "id": "vpEHKyvHxu8A",
        "colab": {
          "base_uri": "https://localhost:8080/"
        },
        "outputId": "a37b3b8f-07f2-4a08-ae8a-9f5771efe085"
      },
      "outputs": [
        {
          "output_type": "stream",
          "name": "stdout",
          "text": [
            "b\"\\xef\\xbb\\xbfAchilles sing, O Goddess! Peleus' son;\"\n",
            "b'His wrath pernicious, who ten thousand woes'\n",
            "b\"Caused to Achaia's host, sent many a soul\"\n",
            "b'Illustrious into Ades premature,'\n",
            "b'And Heroes gave (so stood the will of Jove)'\n"
          ]
        }
      ],
      "source": [
        "for line in dataset.take(5):\n",
        "  print(line.numpy())"
      ]
    },
    {
      "cell_type": "markdown",
      "metadata": {
        "id": "lJyVw8ro7fey"
      },
      "source": [
        "To alternate lines between files use `Dataset.interleave`. This makes it easier to shuffle files together. Here are the first, second and third lines from each translation:"
      ]
    },
    {
      "cell_type": "code",
      "execution_count": 39,
      "metadata": {
        "id": "1UCveWOt7fDE",
        "colab": {
          "base_uri": "https://localhost:8080/"
        },
        "outputId": "a4359719-45b7-4716-a267-ec57055d8db1"
      },
      "outputs": [
        {
          "output_type": "stream",
          "name": "stdout",
          "text": [
            "\n",
            "b\"\\xef\\xbb\\xbfAchilles sing, O Goddess! Peleus' son;\"\n",
            "b\"\\xef\\xbb\\xbfOf Peleus' son, Achilles, sing, O Muse,\"\n",
            "b'\\xef\\xbb\\xbfSing, O goddess, the anger of Achilles son of Peleus, that brought'\n",
            "\n",
            "b'His wrath pernicious, who ten thousand woes'\n",
            "b'The vengeance, deep and deadly; whence to Greece'\n",
            "b'countless ills upon the Achaeans. Many a brave soul did it send'\n",
            "\n",
            "b\"Caused to Achaia's host, sent many a soul\"\n",
            "b'Unnumbered ills arose; which many a soul'\n",
            "b'hurrying down to Hades, and many a hero did it yield a prey to dogs and'\n"
          ]
        }
      ],
      "source": [
        "files_ds = tf.data.Dataset.from_tensor_slices(file_paths)\n",
        "lines_ds = files_ds.interleave(tf.data.TextLineDataset, cycle_length=3)\n",
        "\n",
        "for i, line in enumerate(lines_ds.take(9)):\n",
        "  if i % 3 == 0:\n",
        "    print()\n",
        "  print(line.numpy())"
      ]
    },
    {
      "cell_type": "markdown",
      "metadata": {
        "id": "2F_pOIDubDce"
      },
      "source": [
        "By default, a `TextLineDataset` yields *every* line of each file, which may\n",
        "not be desirable, for example, if the file starts with a header line, or contains comments. These lines can be removed using the `Dataset.skip()` or\n",
        "`Dataset.filter` transformations. Here, you skip the first line, then filter to\n",
        "find only survivors."
      ]
    },
    {
      "cell_type": "code",
      "execution_count": 40,
      "metadata": {
        "id": "X6b20Gua2jPO",
        "colab": {
          "base_uri": "https://localhost:8080/"
        },
        "outputId": "82cac917-94aa-4f8f-be2b-f13cc55d65b4"
      },
      "outputs": [
        {
          "output_type": "stream",
          "name": "stdout",
          "text": [
            "Downloading data from https://storage.googleapis.com/tf-datasets/titanic/train.csv\n",
            "30874/30874 [==============================] - 0s 0us/step\n"
          ]
        }
      ],
      "source": [
        "titanic_file = tf.keras.utils.get_file(\"train.csv\", \"https://storage.googleapis.com/tf-datasets/titanic/train.csv\")\n",
        "titanic_lines = tf.data.TextLineDataset(titanic_file)"
      ]
    },
    {
      "cell_type": "code",
      "execution_count": 41,
      "metadata": {
        "id": "5M1pauNT68B2",
        "colab": {
          "base_uri": "https://localhost:8080/"
        },
        "outputId": "79792903-3bbd-4a8f-f24e-390fefdb70df"
      },
      "outputs": [
        {
          "output_type": "stream",
          "name": "stdout",
          "text": [
            "b'survived,sex,age,n_siblings_spouses,parch,fare,class,deck,embark_town,alone'\n",
            "b'0,male,22.0,1,0,7.25,Third,unknown,Southampton,n'\n",
            "b'1,female,38.0,1,0,71.2833,First,C,Cherbourg,n'\n",
            "b'1,female,26.0,0,0,7.925,Third,unknown,Southampton,y'\n",
            "b'1,female,35.0,1,0,53.1,First,C,Southampton,n'\n",
            "b'0,male,28.0,0,0,8.4583,Third,unknown,Queenstown,y'\n",
            "b'0,male,2.0,3,1,21.075,Third,unknown,Southampton,n'\n",
            "b'1,female,27.0,0,2,11.1333,Third,unknown,Southampton,n'\n",
            "b'1,female,14.0,1,0,30.0708,Second,unknown,Cherbourg,n'\n",
            "b'1,female,4.0,1,1,16.7,Third,G,Southampton,n'\n"
          ]
        }
      ],
      "source": [
        "for line in titanic_lines.take(10):\n",
        "  print(line.numpy())"
      ]
    },
    {
      "cell_type": "code",
      "execution_count": 42,
      "metadata": {
        "id": "dEIP95cibDcf"
      },
      "outputs": [],
      "source": [
        "def survived(line):\n",
        "  return tf.not_equal(tf.strings.substr(line, 0, 1), \"0\")\n",
        "\n",
        "survivors = titanic_lines.skip(1).filter(survived)"
      ]
    },
    {
      "cell_type": "code",
      "execution_count": 43,
      "metadata": {
        "id": "odQ4618h1XqD",
        "colab": {
          "base_uri": "https://localhost:8080/"
        },
        "outputId": "a8e5a005-3a0e-41e8-aac2-dade685bd7a8"
      },
      "outputs": [
        {
          "output_type": "stream",
          "name": "stdout",
          "text": [
            "b'1,female,38.0,1,0,71.2833,First,C,Cherbourg,n'\n",
            "b'1,female,26.0,0,0,7.925,Third,unknown,Southampton,y'\n",
            "b'1,female,35.0,1,0,53.1,First,C,Southampton,n'\n",
            "b'1,female,27.0,0,2,11.1333,Third,unknown,Southampton,n'\n",
            "b'1,female,14.0,1,0,30.0708,Second,unknown,Cherbourg,n'\n",
            "b'1,female,4.0,1,1,16.7,Third,G,Southampton,n'\n",
            "b'1,male,28.0,0,0,13.0,Second,unknown,Southampton,y'\n",
            "b'1,female,28.0,0,0,7.225,Third,unknown,Cherbourg,y'\n",
            "b'1,male,28.0,0,0,35.5,First,A,Southampton,y'\n",
            "b'1,female,38.0,1,5,31.3875,Third,unknown,Southampton,n'\n"
          ]
        }
      ],
      "source": [
        "for line in survivors.take(10):\n",
        "  print(line.numpy())"
      ]
    },
    {
      "cell_type": "markdown",
      "metadata": {
        "id": "x5z5B11UjDTd"
      },
      "source": [
        "### Consuming CSV data"
      ]
    },
    {
      "cell_type": "markdown",
      "metadata": {
        "id": "ChDHNi3qbDch"
      },
      "source": [
        "Refer to the [Loading CSV Files](../tutorials/load_data/csv.ipynb) and [Loading Pandas DataFrames](../tutorials/load_data/pandas_dataframe.ipynb) tutorials for more examples.\n",
        "\n",
        "The CSV file format is a popular format for storing tabular data in plain text.\n",
        "\n",
        "For example:"
      ]
    },
    {
      "cell_type": "code",
      "execution_count": 44,
      "metadata": {
        "id": "kj28j5u49Bjm"
      },
      "outputs": [],
      "source": [
        "titanic_file = tf.keras.utils.get_file(\"train.csv\", \"https://storage.googleapis.com/tf-datasets/titanic/train.csv\")"
      ]
    },
    {
      "cell_type": "code",
      "execution_count": 45,
      "metadata": {
        "id": "ghvtmW40LM0B",
        "colab": {
          "base_uri": "https://localhost:8080/",
          "height": 206
        },
        "outputId": "6430cc73-8828-4940-904d-68add76182fc"
      },
      "outputs": [
        {
          "output_type": "execute_result",
          "data": {
            "text/plain": [
              "   survived     sex   age  n_siblings_spouses  parch     fare  class     deck  \\\n",
              "0         0    male  22.0                   1      0   7.2500  Third  unknown   \n",
              "1         1  female  38.0                   1      0  71.2833  First        C   \n",
              "2         1  female  26.0                   0      0   7.9250  Third  unknown   \n",
              "3         1  female  35.0                   1      0  53.1000  First        C   \n",
              "4         0    male  28.0                   0      0   8.4583  Third  unknown   \n",
              "\n",
              "   embark_town alone  \n",
              "0  Southampton     n  \n",
              "1    Cherbourg     n  \n",
              "2  Southampton     y  \n",
              "3  Southampton     n  \n",
              "4   Queenstown     y  "
            ],
            "text/html": [
              "\n",
              "  <div id=\"df-546a11dd-18f6-4374-a2a0-37d3172469a0\">\n",
              "    <div class=\"colab-df-container\">\n",
              "      <div>\n",
              "<style scoped>\n",
              "    .dataframe tbody tr th:only-of-type {\n",
              "        vertical-align: middle;\n",
              "    }\n",
              "\n",
              "    .dataframe tbody tr th {\n",
              "        vertical-align: top;\n",
              "    }\n",
              "\n",
              "    .dataframe thead th {\n",
              "        text-align: right;\n",
              "    }\n",
              "</style>\n",
              "<table border=\"1\" class=\"dataframe\">\n",
              "  <thead>\n",
              "    <tr style=\"text-align: right;\">\n",
              "      <th></th>\n",
              "      <th>survived</th>\n",
              "      <th>sex</th>\n",
              "      <th>age</th>\n",
              "      <th>n_siblings_spouses</th>\n",
              "      <th>parch</th>\n",
              "      <th>fare</th>\n",
              "      <th>class</th>\n",
              "      <th>deck</th>\n",
              "      <th>embark_town</th>\n",
              "      <th>alone</th>\n",
              "    </tr>\n",
              "  </thead>\n",
              "  <tbody>\n",
              "    <tr>\n",
              "      <th>0</th>\n",
              "      <td>0</td>\n",
              "      <td>male</td>\n",
              "      <td>22.0</td>\n",
              "      <td>1</td>\n",
              "      <td>0</td>\n",
              "      <td>7.2500</td>\n",
              "      <td>Third</td>\n",
              "      <td>unknown</td>\n",
              "      <td>Southampton</td>\n",
              "      <td>n</td>\n",
              "    </tr>\n",
              "    <tr>\n",
              "      <th>1</th>\n",
              "      <td>1</td>\n",
              "      <td>female</td>\n",
              "      <td>38.0</td>\n",
              "      <td>1</td>\n",
              "      <td>0</td>\n",
              "      <td>71.2833</td>\n",
              "      <td>First</td>\n",
              "      <td>C</td>\n",
              "      <td>Cherbourg</td>\n",
              "      <td>n</td>\n",
              "    </tr>\n",
              "    <tr>\n",
              "      <th>2</th>\n",
              "      <td>1</td>\n",
              "      <td>female</td>\n",
              "      <td>26.0</td>\n",
              "      <td>0</td>\n",
              "      <td>0</td>\n",
              "      <td>7.9250</td>\n",
              "      <td>Third</td>\n",
              "      <td>unknown</td>\n",
              "      <td>Southampton</td>\n",
              "      <td>y</td>\n",
              "    </tr>\n",
              "    <tr>\n",
              "      <th>3</th>\n",
              "      <td>1</td>\n",
              "      <td>female</td>\n",
              "      <td>35.0</td>\n",
              "      <td>1</td>\n",
              "      <td>0</td>\n",
              "      <td>53.1000</td>\n",
              "      <td>First</td>\n",
              "      <td>C</td>\n",
              "      <td>Southampton</td>\n",
              "      <td>n</td>\n",
              "    </tr>\n",
              "    <tr>\n",
              "      <th>4</th>\n",
              "      <td>0</td>\n",
              "      <td>male</td>\n",
              "      <td>28.0</td>\n",
              "      <td>0</td>\n",
              "      <td>0</td>\n",
              "      <td>8.4583</td>\n",
              "      <td>Third</td>\n",
              "      <td>unknown</td>\n",
              "      <td>Queenstown</td>\n",
              "      <td>y</td>\n",
              "    </tr>\n",
              "  </tbody>\n",
              "</table>\n",
              "</div>\n",
              "      <button class=\"colab-df-convert\" onclick=\"convertToInteractive('df-546a11dd-18f6-4374-a2a0-37d3172469a0')\"\n",
              "              title=\"Convert this dataframe to an interactive table.\"\n",
              "              style=\"display:none;\">\n",
              "        \n",
              "  <svg xmlns=\"http://www.w3.org/2000/svg\" height=\"24px\"viewBox=\"0 0 24 24\"\n",
              "       width=\"24px\">\n",
              "    <path d=\"M0 0h24v24H0V0z\" fill=\"none\"/>\n",
              "    <path d=\"M18.56 5.44l.94 2.06.94-2.06 2.06-.94-2.06-.94-.94-2.06-.94 2.06-2.06.94zm-11 1L8.5 8.5l.94-2.06 2.06-.94-2.06-.94L8.5 2.5l-.94 2.06-2.06.94zm10 10l.94 2.06.94-2.06 2.06-.94-2.06-.94-.94-2.06-.94 2.06-2.06.94z\"/><path d=\"M17.41 7.96l-1.37-1.37c-.4-.4-.92-.59-1.43-.59-.52 0-1.04.2-1.43.59L10.3 9.45l-7.72 7.72c-.78.78-.78 2.05 0 2.83L4 21.41c.39.39.9.59 1.41.59.51 0 1.02-.2 1.41-.59l7.78-7.78 2.81-2.81c.8-.78.8-2.07 0-2.86zM5.41 20L4 18.59l7.72-7.72 1.47 1.35L5.41 20z\"/>\n",
              "  </svg>\n",
              "      </button>\n",
              "      \n",
              "  <style>\n",
              "    .colab-df-container {\n",
              "      display:flex;\n",
              "      flex-wrap:wrap;\n",
              "      gap: 12px;\n",
              "    }\n",
              "\n",
              "    .colab-df-convert {\n",
              "      background-color: #E8F0FE;\n",
              "      border: none;\n",
              "      border-radius: 50%;\n",
              "      cursor: pointer;\n",
              "      display: none;\n",
              "      fill: #1967D2;\n",
              "      height: 32px;\n",
              "      padding: 0 0 0 0;\n",
              "      width: 32px;\n",
              "    }\n",
              "\n",
              "    .colab-df-convert:hover {\n",
              "      background-color: #E2EBFA;\n",
              "      box-shadow: 0px 1px 2px rgba(60, 64, 67, 0.3), 0px 1px 3px 1px rgba(60, 64, 67, 0.15);\n",
              "      fill: #174EA6;\n",
              "    }\n",
              "\n",
              "    [theme=dark] .colab-df-convert {\n",
              "      background-color: #3B4455;\n",
              "      fill: #D2E3FC;\n",
              "    }\n",
              "\n",
              "    [theme=dark] .colab-df-convert:hover {\n",
              "      background-color: #434B5C;\n",
              "      box-shadow: 0px 1px 3px 1px rgba(0, 0, 0, 0.15);\n",
              "      filter: drop-shadow(0px 1px 2px rgba(0, 0, 0, 0.3));\n",
              "      fill: #FFFFFF;\n",
              "    }\n",
              "  </style>\n",
              "\n",
              "      <script>\n",
              "        const buttonEl =\n",
              "          document.querySelector('#df-546a11dd-18f6-4374-a2a0-37d3172469a0 button.colab-df-convert');\n",
              "        buttonEl.style.display =\n",
              "          google.colab.kernel.accessAllowed ? 'block' : 'none';\n",
              "\n",
              "        async function convertToInteractive(key) {\n",
              "          const element = document.querySelector('#df-546a11dd-18f6-4374-a2a0-37d3172469a0');\n",
              "          const dataTable =\n",
              "            await google.colab.kernel.invokeFunction('convertToInteractive',\n",
              "                                                     [key], {});\n",
              "          if (!dataTable) return;\n",
              "\n",
              "          const docLinkHtml = 'Like what you see? Visit the ' +\n",
              "            '<a target=\"_blank\" href=https://colab.research.google.com/notebooks/data_table.ipynb>data table notebook</a>'\n",
              "            + ' to learn more about interactive tables.';\n",
              "          element.innerHTML = '';\n",
              "          dataTable['output_type'] = 'display_data';\n",
              "          await google.colab.output.renderOutput(dataTable, element);\n",
              "          const docLink = document.createElement('div');\n",
              "          docLink.innerHTML = docLinkHtml;\n",
              "          element.appendChild(docLink);\n",
              "        }\n",
              "      </script>\n",
              "    </div>\n",
              "  </div>\n",
              "  "
            ]
          },
          "metadata": {},
          "execution_count": 45
        }
      ],
      "source": [
        "df = pd.read_csv(titanic_file)\n",
        "df.head()"
      ]
    },
    {
      "cell_type": "markdown",
      "metadata": {
        "id": "J9uBqt5oGsR-"
      },
      "source": [
        "If your data fits in memory the same `Dataset.from_tensor_slices` method works on dictionaries, allowing this data to be easily imported:"
      ]
    },
    {
      "cell_type": "code",
      "execution_count": 46,
      "metadata": {
        "id": "JmAMCiPJA0qO",
        "colab": {
          "base_uri": "https://localhost:8080/"
        },
        "outputId": "6f4418cd-c73b-451a-e096-c2c35a2c9d40"
      },
      "outputs": [
        {
          "output_type": "stream",
          "name": "stdout",
          "text": [
            "  'survived'          : 0\n",
            "  'sex'               : b'male'\n",
            "  'age'               : 22.0\n",
            "  'n_siblings_spouses': 1\n",
            "  'parch'             : 0\n",
            "  'fare'              : 7.25\n",
            "  'class'             : b'Third'\n",
            "  'deck'              : b'unknown'\n",
            "  'embark_town'       : b'Southampton'\n",
            "  'alone'             : b'n'\n"
          ]
        }
      ],
      "source": [
        "titanic_slices = tf.data.Dataset.from_tensor_slices(dict(df))\n",
        "\n",
        "for feature_batch in titanic_slices.take(1):\n",
        "  for key, value in feature_batch.items():\n",
        "    print(\"  {!r:20s}: {}\".format(key, value))"
      ]
    },
    {
      "cell_type": "markdown",
      "metadata": {
        "id": "47yippqaHFk6"
      },
      "source": [
        "A more scalable approach is to load from disk as necessary.\n",
        "\n",
        "The `tf.data` module provides methods to extract records from one or more CSV files that comply with [RFC 4180](https://tools.ietf.org/html/rfc4180).\n",
        "\n",
        "The `tf.data.experimental.make_csv_dataset` function is the high-level interface for reading sets of CSV files. It supports column type inference and many other features, like batching and shuffling, to make usage simple."
      ]
    },
    {
      "cell_type": "code",
      "execution_count": 47,
      "metadata": {
        "id": "zHUDrM_s_brq"
      },
      "outputs": [],
      "source": [
        "titanic_batches = tf.data.experimental.make_csv_dataset(\n",
        "    titanic_file, batch_size=4,\n",
        "    label_name=\"survived\")"
      ]
    },
    {
      "cell_type": "code",
      "execution_count": 48,
      "metadata": {
        "id": "TsZfhz79_Wlg",
        "colab": {
          "base_uri": "https://localhost:8080/"
        },
        "outputId": "dddf2233-0b9b-48bf-ec53-e828859ededc"
      },
      "outputs": [
        {
          "output_type": "stream",
          "name": "stdout",
          "text": [
            "'survived': [1 0 0 0]\n",
            "features:\n",
            "  'sex'               : [b'female' b'male' b'male' b'male']\n",
            "  'age'               : [ 4. 39. 28. 28.]\n",
            "  'n_siblings_spouses': [1 0 1 0]\n",
            "  'parch'             : [1 0 0 0]\n",
            "  'fare'              : [16.7   0.    7.75  8.05]\n",
            "  'class'             : [b'Third' b'First' b'Third' b'Third']\n",
            "  'deck'              : [b'G' b'A' b'unknown' b'unknown']\n",
            "  'embark_town'       : [b'Southampton' b'Southampton' b'Queenstown' b'Southampton']\n",
            "  'alone'             : [b'n' b'y' b'n' b'y']\n"
          ]
        }
      ],
      "source": [
        "for feature_batch, label_batch in titanic_batches.take(1):\n",
        "  print(\"'survived': {}\".format(label_batch))\n",
        "  print(\"features:\")\n",
        "  for key, value in feature_batch.items():\n",
        "    print(\"  {!r:20s}: {}\".format(key, value))"
      ]
    },
    {
      "cell_type": "markdown",
      "metadata": {
        "id": "k_5N7CdNGYAa"
      },
      "source": [
        "You can use the `select_columns` argument if you only need a subset of columns."
      ]
    },
    {
      "cell_type": "code",
      "execution_count": 49,
      "metadata": {
        "id": "H9KNHyDwF2Sc"
      },
      "outputs": [],
      "source": [
        "titanic_batches = tf.data.experimental.make_csv_dataset(\n",
        "    titanic_file, batch_size=4,\n",
        "    label_name=\"survived\", select_columns=['class', 'fare', 'survived'])"
      ]
    },
    {
      "cell_type": "code",
      "execution_count": 50,
      "metadata": {
        "id": "7C2uosFnGIT8",
        "colab": {
          "base_uri": "https://localhost:8080/"
        },
        "outputId": "7e159325-08d5-4c12-f6d1-fe08d85b3f80"
      },
      "outputs": [
        {
          "output_type": "stream",
          "name": "stdout",
          "text": [
            "'survived': [1 1 1 0]\n",
            "  'fare'              : [ 7.225  26.      7.7333  7.75  ]\n",
            "  'class'             : [b'Third' b'Second' b'Third' b'Third']\n"
          ]
        }
      ],
      "source": [
        "for feature_batch, label_batch in titanic_batches.take(1):\n",
        "  print(\"'survived': {}\".format(label_batch))\n",
        "  for key, value in feature_batch.items():\n",
        "    print(\"  {!r:20s}: {}\".format(key, value))"
      ]
    },
    {
      "cell_type": "markdown",
      "metadata": {
        "id": "TSVgJJ1HJD6M"
      },
      "source": [
        "There is also a lower-level `experimental.CsvDataset` class which provides finer grained control. It does not support column type inference. Instead you must specify the type of each column."
      ]
    },
    {
      "cell_type": "code",
      "execution_count": 51,
      "metadata": {
        "id": "wP1Y_NXA8bYl",
        "colab": {
          "base_uri": "https://localhost:8080/"
        },
        "outputId": "70bbe74b-92cc-481d-ef36-18c10b497371"
      },
      "outputs": [
        {
          "output_type": "stream",
          "name": "stdout",
          "text": [
            "[0, b'male', 22.0, 1, 0, 7.25, b'Third', b'unknown', b'Southampton', b'n']\n",
            "[1, b'female', 38.0, 1, 0, 71.2833, b'First', b'C', b'Cherbourg', b'n']\n",
            "[1, b'female', 26.0, 0, 0, 7.925, b'Third', b'unknown', b'Southampton', b'y']\n",
            "[1, b'female', 35.0, 1, 0, 53.1, b'First', b'C', b'Southampton', b'n']\n",
            "[0, b'male', 28.0, 0, 0, 8.4583, b'Third', b'unknown', b'Queenstown', b'y']\n",
            "[0, b'male', 2.0, 3, 1, 21.075, b'Third', b'unknown', b'Southampton', b'n']\n",
            "[1, b'female', 27.0, 0, 2, 11.1333, b'Third', b'unknown', b'Southampton', b'n']\n",
            "[1, b'female', 14.0, 1, 0, 30.0708, b'Second', b'unknown', b'Cherbourg', b'n']\n",
            "[1, b'female', 4.0, 1, 1, 16.7, b'Third', b'G', b'Southampton', b'n']\n",
            "[0, b'male', 20.0, 0, 0, 8.05, b'Third', b'unknown', b'Southampton', b'y']\n"
          ]
        }
      ],
      "source": [
        "titanic_types  = [tf.int32, tf.string, tf.float32, tf.int32, tf.int32, tf.float32, tf.string, tf.string, tf.string, tf.string]\n",
        "dataset = tf.data.experimental.CsvDataset(titanic_file, titanic_types , header=True)\n",
        "\n",
        "for line in dataset.take(10):\n",
        "  print([item.numpy() for item in line])"
      ]
    },
    {
      "cell_type": "markdown",
      "metadata": {
        "id": "oZSuLVsTbDcj"
      },
      "source": [
        "If some columns are empty, this low-level interface allows you to provide default values instead of column types."
      ]
    },
    {
      "cell_type": "code",
      "execution_count": 52,
      "metadata": {
        "id": "Qry-g90FMo2I",
        "colab": {
          "base_uri": "https://localhost:8080/"
        },
        "outputId": "019f6644-eb4f-4168-fd54-210e5266c02f"
      },
      "outputs": [
        {
          "output_type": "stream",
          "name": "stdout",
          "text": [
            "Writing missing.csv\n"
          ]
        }
      ],
      "source": [
        "%%writefile missing.csv\n",
        "1,2,3,4\n",
        ",2,3,4\n",
        "1,,3,4\n",
        "1,2,,4\n",
        "1,2,3,\n",
        ",,,"
      ]
    },
    {
      "cell_type": "code",
      "execution_count": 53,
      "metadata": {
        "id": "d5_hbiE9bDck",
        "colab": {
          "base_uri": "https://localhost:8080/"
        },
        "outputId": "0c182f27-1312-4cd3-b0f6-86570195dfb4"
      },
      "outputs": [
        {
          "output_type": "execute_result",
          "data": {
            "text/plain": [
              "<MapDataset element_spec=TensorSpec(shape=(4,), dtype=tf.int32, name=None)>"
            ]
          },
          "metadata": {},
          "execution_count": 53
        }
      ],
      "source": [
        "# Creates a dataset that reads all of the records from two CSV files, each with\n",
        "# four float columns which may have missing values.\n",
        "\n",
        "record_defaults = [999,999,999,999]\n",
        "dataset = tf.data.experimental.CsvDataset(\"missing.csv\", record_defaults)\n",
        "dataset = dataset.map(lambda *items: tf.stack(items))\n",
        "dataset"
      ]
    },
    {
      "cell_type": "code",
      "execution_count": 54,
      "metadata": {
        "id": "__jc7iD9M9FC",
        "colab": {
          "base_uri": "https://localhost:8080/"
        },
        "outputId": "3110c99b-757d-4514-85a6-de81cb6edd29"
      },
      "outputs": [
        {
          "output_type": "stream",
          "name": "stdout",
          "text": [
            "[1 2 3 4]\n",
            "[999   2   3   4]\n",
            "[  1 999   3   4]\n",
            "[  1   2 999   4]\n",
            "[  1   2   3 999]\n",
            "[999 999 999 999]\n"
          ]
        }
      ],
      "source": [
        "for line in dataset:\n",
        "  print(line.numpy())"
      ]
    },
    {
      "cell_type": "markdown",
      "metadata": {
        "id": "z_4g0cIvbDcl"
      },
      "source": [
        "By default, a `CsvDataset` yields *every* column of *every* line of the file,\n",
        "which may not be desirable, for example if the file starts with a header line\n",
        "that should be ignored, or if some columns are not required in the input.\n",
        "These lines and fields can be removed with the `header` and `select_cols`\n",
        "arguments respectively."
      ]
    },
    {
      "cell_type": "code",
      "execution_count": 55,
      "metadata": {
        "id": "p2IF_K0obDcm",
        "colab": {
          "base_uri": "https://localhost:8080/"
        },
        "outputId": "d46cc4e7-73d1-4a1e-83e4-d6b0551f7528"
      },
      "outputs": [
        {
          "output_type": "execute_result",
          "data": {
            "text/plain": [
              "<MapDataset element_spec=TensorSpec(shape=(2,), dtype=tf.int32, name=None)>"
            ]
          },
          "metadata": {},
          "execution_count": 55
        }
      ],
      "source": [
        "# Creates a dataset that reads all of the records from two CSV files with\n",
        "# headers, extracting float data from columns 2 and 4.\n",
        "record_defaults = [999, 999] # Only provide defaults for the selected columns\n",
        "dataset = tf.data.experimental.CsvDataset(\"missing.csv\", record_defaults, select_cols=[1, 3])\n",
        "dataset = dataset.map(lambda *items: tf.stack(items))\n",
        "dataset"
      ]
    },
    {
      "cell_type": "code",
      "execution_count": 56,
      "metadata": {
        "id": "-5aLprDeRNb0",
        "colab": {
          "base_uri": "https://localhost:8080/"
        },
        "outputId": "9404a078-59de-444a-feef-6be4aa972c27"
      },
      "outputs": [
        {
          "output_type": "stream",
          "name": "stdout",
          "text": [
            "[2 4]\n",
            "[2 4]\n",
            "[999   4]\n",
            "[2 4]\n",
            "[  2 999]\n",
            "[999 999]\n"
          ]
        }
      ],
      "source": [
        "for line in dataset:\n",
        "  print(line.numpy())"
      ]
    },
    {
      "cell_type": "markdown",
      "metadata": {
        "id": "-CJfhb03koVN"
      },
      "source": [
        "### Consuming sets of files"
      ]
    },
    {
      "cell_type": "markdown",
      "metadata": {
        "id": "yAO7SZDSk57_"
      },
      "source": [
        "There are many datasets distributed as a set of files, where each file is an example."
      ]
    },
    {
      "cell_type": "code",
      "execution_count": 57,
      "metadata": {
        "id": "1dZwN3CS-jV2"
      },
      "outputs": [],
      "source": [
        "flowers_root = tf.keras.utils.get_file(\n",
        "    'flower_photos',\n",
        "    'https://storage.googleapis.com/download.tensorflow.org/example_images/flower_photos.tgz',\n",
        "    untar=True)\n",
        "flowers_root = pathlib.Path(flowers_root)\n"
      ]
    },
    {
      "cell_type": "markdown",
      "metadata": {
        "id": "4099UU8n-jHP"
      },
      "source": [
        "Note: these images are licensed CC-BY, see LICENSE.txt for details."
      ]
    },
    {
      "cell_type": "markdown",
      "metadata": {
        "id": "FCyTYpmDs_jE"
      },
      "source": [
        "The root directory contains a directory for each class:"
      ]
    },
    {
      "cell_type": "code",
      "execution_count": 58,
      "metadata": {
        "id": "_2iCXsHu6jJH",
        "colab": {
          "base_uri": "https://localhost:8080/"
        },
        "outputId": "51db8e0c-90bc-47a2-b798-fc682d31bac7"
      },
      "outputs": [
        {
          "output_type": "stream",
          "name": "stdout",
          "text": [
            "sunflowers\n",
            "roses\n",
            "LICENSE.txt\n",
            "tulips\n",
            "dandelion\n",
            "daisy\n"
          ]
        }
      ],
      "source": [
        "for item in flowers_root.glob(\"*\"):\n",
        "  print(item.name)"
      ]
    },
    {
      "cell_type": "markdown",
      "metadata": {
        "id": "Ylj9fgkamgWZ"
      },
      "source": [
        "The files in each class directory are examples:"
      ]
    },
    {
      "cell_type": "code",
      "execution_count": 59,
      "metadata": {
        "id": "lAkQp5uxoINu",
        "colab": {
          "base_uri": "https://localhost:8080/"
        },
        "outputId": "55ed9e7c-e842-412e-fccb-789ef92d2b7a"
      },
      "outputs": [
        {
          "output_type": "stream",
          "name": "stdout",
          "text": [
            "b'/root/.keras/datasets/flower_photos/dandelion/3005677730_2662753d3f_m.jpg'\n",
            "b'/root/.keras/datasets/flower_photos/roses/7147367479_f7a6ef0798.jpg'\n",
            "b'/root/.keras/datasets/flower_photos/daisy/4278442064_a5a598524b_m.jpg'\n",
            "b'/root/.keras/datasets/flower_photos/roses/4754734410_94d98463a5.jpg'\n",
            "b'/root/.keras/datasets/flower_photos/dandelion/2039797043_d5b709f275_n.jpg'\n"
          ]
        }
      ],
      "source": [
        "list_ds = tf.data.Dataset.list_files(str(flowers_root/'*/*'))\n",
        "\n",
        "for f in list_ds.take(5):\n",
        "  print(f.numpy())"
      ]
    },
    {
      "cell_type": "markdown",
      "metadata": {
        "id": "91CPfUUJ_8SZ"
      },
      "source": [
        "Read the data using the `tf.io.read_file` function and extract the label from the path, returning `(image, label)` pairs:"
      ]
    },
    {
      "cell_type": "code",
      "execution_count": 60,
      "metadata": {
        "id": "-xhBRgvNqRRe"
      },
      "outputs": [],
      "source": [
        "def process_path(file_path):\n",
        "  label = tf.strings.split(file_path, os.sep)[-2]\n",
        "  return tf.io.read_file(file_path), label\n",
        "\n",
        "labeled_ds = list_ds.map(process_path)"
      ]
    },
    {
      "cell_type": "code",
      "execution_count": 61,
      "metadata": {
        "id": "kxrl0lGdnpRz",
        "colab": {
          "base_uri": "https://localhost:8080/"
        },
        "outputId": "55932bce-b3e3-4946-a2ae-ff875b97b401"
      },
      "outputs": [
        {
          "output_type": "stream",
          "name": "stdout",
          "text": [
            "b'\\xff\\xd8\\xff\\xe0\\x00\\x10JFIF\\x00\\x01\\x01\\x00\\x00\\x01\\x00\\x01\\x00\\x00\\xff\\xe2\\x03\\xbcICC_PROFILE\\x00\\x01\\x01\\x00\\x00\\x03\\xacKCMS\\x02\\x10\\x00\\x00mntrRGB XYZ \\x07\\xce\\x00\\x0c\\x00\\x01\\x00\\x12\\x00:\\x00\\x15acspMSFT\\x00\\x00\\x00\\x00KODAROMM\\x00\\x00\\x00\\x00\\x00\\x00'\n",
            "\n",
            "b'daisy'\n"
          ]
        }
      ],
      "source": [
        "for image_raw, label_text in labeled_ds.take(1):\n",
        "  print(repr(image_raw.numpy()[:100]))\n",
        "  print()\n",
        "  print(label_text.numpy())"
      ]
    },
    {
      "cell_type": "markdown",
      "metadata": {
        "id": "yEh46Ee0oSH5"
      },
      "source": [
        "<!--\n",
        "TODO(mrry): Add this section.\n",
        "\n",
        "### Handling text data with unusual sizes\n",
        "-->\n",
        "\n",
        "## Batching dataset elements\n"
      ]
    },
    {
      "cell_type": "markdown",
      "metadata": {
        "id": "gR-2xY-8oSH4"
      },
      "source": [
        "### Simple batching\n",
        "\n",
        "The simplest form of batching stacks `n` consecutive elements of a dataset into\n",
        "a single element. The `Dataset.batch()` transformation does exactly this, with\n",
        "the same constraints as the `tf.stack()` operator, applied to each component\n",
        "of the elements: i.e. for each component *i*, all elements must have a tensor\n",
        "of the exact same shape."
      ]
    },
    {
      "cell_type": "code",
      "execution_count": 62,
      "metadata": {
        "id": "xB7KeceLoSH0",
        "colab": {
          "base_uri": "https://localhost:8080/"
        },
        "outputId": "0b51c911-c0a0-415b-eccd-1b44cde597e3"
      },
      "outputs": [
        {
          "output_type": "stream",
          "name": "stdout",
          "text": [
            "[array([0, 1, 2, 3]), array([ 0, -1, -2, -3])]\n",
            "[array([4, 5, 6, 7]), array([-4, -5, -6, -7])]\n",
            "[array([ 8,  9, 10, 11]), array([ -8,  -9, -10, -11])]\n",
            "[array([12, 13, 14, 15]), array([-12, -13, -14, -15])]\n"
          ]
        }
      ],
      "source": [
        "inc_dataset = tf.data.Dataset.range(100)\n",
        "dec_dataset = tf.data.Dataset.range(0, -100, -1)\n",
        "dataset = tf.data.Dataset.zip((inc_dataset, dec_dataset))\n",
        "batched_dataset = dataset.batch(4)\n",
        "\n",
        "for batch in batched_dataset.take(4):\n",
        "  print([arr.numpy() for arr in batch])"
      ]
    },
    {
      "cell_type": "markdown",
      "metadata": {
        "id": "LlV1tpFdoSH0"
      },
      "source": [
        "While `tf.data` tries to propagate shape information, the default settings of `Dataset.batch` result in an unknown batch size because the last batch may not be full. Note the `None`s in the shape:"
      ]
    },
    {
      "cell_type": "code",
      "execution_count": 63,
      "metadata": {
        "id": "yN7hn7OBoSHx",
        "colab": {
          "base_uri": "https://localhost:8080/"
        },
        "outputId": "ad19b5a1-10d5-4b66-dee1-0419388ce3d6"
      },
      "outputs": [
        {
          "output_type": "execute_result",
          "data": {
            "text/plain": [
              "<BatchDataset element_spec=(TensorSpec(shape=(None,), dtype=tf.int64, name=None), TensorSpec(shape=(None,), dtype=tf.int64, name=None))>"
            ]
          },
          "metadata": {},
          "execution_count": 63
        }
      ],
      "source": [
        "batched_dataset"
      ]
    },
    {
      "cell_type": "markdown",
      "metadata": {
        "id": "It1fPA3NoSHw"
      },
      "source": [
        "Use the `drop_remainder` argument to ignore that last batch, and get full shape propagation:"
      ]
    },
    {
      "cell_type": "code",
      "execution_count": 64,
      "metadata": {
        "id": "BycWC7WCoSHt",
        "colab": {
          "base_uri": "https://localhost:8080/"
        },
        "outputId": "f6b5ad78-a7a6-4495-d42c-9c7384c9e043"
      },
      "outputs": [
        {
          "output_type": "execute_result",
          "data": {
            "text/plain": [
              "<BatchDataset element_spec=(TensorSpec(shape=(7,), dtype=tf.int64, name=None), TensorSpec(shape=(7,), dtype=tf.int64, name=None))>"
            ]
          },
          "metadata": {},
          "execution_count": 64
        }
      ],
      "source": [
        "batched_dataset = dataset.batch(7, drop_remainder=True)\n",
        "batched_dataset"
      ]
    },
    {
      "cell_type": "markdown",
      "metadata": {
        "id": "mj9nRxFZoSHs"
      },
      "source": [
        "### Batching tensors with padding\n",
        "\n",
        "The above recipe works for tensors that all have the same size. However, many\n",
        "models (including sequence models) work with input data that can have varying size\n",
        "(for example, sequences of different lengths). To handle this case, the\n",
        "`Dataset.padded_batch` transformation enables you to batch tensors of\n",
        "different shapes by specifying one or more dimensions in which they may be\n",
        "padded."
      ]
    },
    {
      "cell_type": "code",
      "execution_count": 65,
      "metadata": {
        "id": "kycwO0JooSHn",
        "colab": {
          "base_uri": "https://localhost:8080/"
        },
        "outputId": "f5783ead-bec8-4cb1-ad44-36f77bd234ef"
      },
      "outputs": [
        {
          "output_type": "stream",
          "name": "stdout",
          "text": [
            "[[0 0 0]\n",
            " [1 0 0]\n",
            " [2 2 0]\n",
            " [3 3 3]]\n",
            "\n",
            "[[4 4 4 4 0 0 0]\n",
            " [5 5 5 5 5 0 0]\n",
            " [6 6 6 6 6 6 0]\n",
            " [7 7 7 7 7 7 7]]\n",
            "\n"
          ]
        }
      ],
      "source": [
        "dataset = tf.data.Dataset.range(100)\n",
        "dataset = dataset.map(lambda x: tf.fill([tf.cast(x, tf.int32)], x))\n",
        "dataset = dataset.padded_batch(4, padded_shapes=(None,))\n",
        "\n",
        "for batch in dataset.take(2):\n",
        "  print(batch.numpy())\n",
        "  print()\n"
      ]
    },
    {
      "cell_type": "markdown",
      "metadata": {
        "id": "wl3yhth1oSHm"
      },
      "source": [
        "The `Dataset.padded_batch` transformation allows you to set different padding\n",
        "for each dimension of each component, and it may be variable-length (signified\n",
        "by `None` in the example above) or constant-length. It is also possible to\n",
        "override the padding value, which defaults to 0.\n",
        "\n",
        "<!--\n",
        "TODO(mrry): Add this section.\n",
        "\n",
        "### Dense ragged -> tf.SparseTensor\n",
        "-->\n"
      ]
    },
    {
      "cell_type": "markdown",
      "metadata": {
        "id": "G8zbAxMwoSHl"
      },
      "source": [
        "## Training workflows\n"
      ]
    },
    {
      "cell_type": "markdown",
      "metadata": {
        "id": "UnlhzF_AoSHk"
      },
      "source": [
        "### Processing multiple epochs\n",
        "\n",
        "The `tf.data` API offers two main ways to process multiple epochs of the same\n",
        "data.\n",
        "\n",
        "The simplest way to iterate over a dataset in multiple epochs is to use the\n",
        "`Dataset.repeat()` transformation. First, create a dataset of titanic data:"
      ]
    },
    {
      "cell_type": "code",
      "execution_count": 66,
      "metadata": {
        "id": "0tODHZzRoSHg"
      },
      "outputs": [],
      "source": [
        "titanic_file = tf.keras.utils.get_file(\"train.csv\", \"https://storage.googleapis.com/tf-datasets/titanic/train.csv\")\n",
        "titanic_lines = tf.data.TextLineDataset(titanic_file)"
      ]
    },
    {
      "cell_type": "code",
      "execution_count": 67,
      "metadata": {
        "id": "LMO6mlXxoSHc"
      },
      "outputs": [],
      "source": [
        "def plot_batch_sizes(ds):\n",
        "  batch_sizes = [batch.shape[0] for batch in ds]\n",
        "  plt.bar(range(len(batch_sizes)), batch_sizes)\n",
        "  plt.xlabel('Batch number')\n",
        "  plt.ylabel('Batch size')"
      ]
    },
    {
      "cell_type": "markdown",
      "metadata": {
        "id": "WfVzmqL7oSHa"
      },
      "source": [
        "Applying the `Dataset.repeat()` transformation with no arguments will repeat\n",
        "the input indefinitely.\n",
        "\n",
        "The `Dataset.repeat` transformation concatenates its\n",
        "arguments without signaling the end of one epoch and the beginning of the next\n",
        "epoch. Because of this a `Dataset.batch` applied after `Dataset.repeat` will yield batches that straddle epoch boundaries:"
      ]
    },
    {
      "cell_type": "code",
      "execution_count": 68,
      "metadata": {
        "id": "nZ0G1cztoSHX",
        "colab": {
          "base_uri": "https://localhost:8080/",
          "height": 279
        },
        "outputId": "5552bb7f-ce2d-4834-81cf-f65dc1c869e8"
      },
      "outputs": [
        {
          "output_type": "display_data",
          "data": {
            "text/plain": [
              "<Figure size 432x288 with 1 Axes>"
            ],
            "image/png": "[encoded data removed]"
          },
          "metadata": {
            "needs_background": "light"
          }
        }
      ],
      "source": [
        "titanic_batches = titanic_lines.repeat(3).batch(128)\n",
        "plot_batch_sizes(titanic_batches)"
      ]
    },
    {
      "cell_type": "markdown",
      "metadata": {
        "id": "moH-4gBEoSHW"
      },
      "source": [
        "If you need clear epoch separation, put `Dataset.batch` before the repeat:"
      ]
    },
    {
      "cell_type": "code",
      "execution_count": 69,
      "metadata": {
        "id": "wmbmdK1qoSHS",
        "colab": {
          "base_uri": "https://localhost:8080/",
          "height": 279
        },
        "outputId": "2bcd4c81-28ca-4be9-c78f-11ea19e315fc"
      },
      "outputs": [
        {
          "output_type": "display_data",
          "data": {
            "text/plain": [
              "<Figure size 432x288 with 1 Axes>"
            ],
            "image/png": "[encoded data removed]"
          },
          "metadata": {
            "needs_background": "light"
          }
        }
      ],
      "source": [
        "titanic_batches = titanic_lines.batch(128).repeat(3)\n",
        "\n",
        "plot_batch_sizes(titanic_batches)"
      ]
    },
    {
      "cell_type": "markdown",
      "metadata": {
        "id": "DlEM5f9loSHR"
      },
      "source": [
        "If you would like to perform a custom computation (for example, to collect statistics) at the end of each epoch then it's simplest to restart the dataset iteration on each epoch:"
      ]
    },
    {
      "cell_type": "code",
      "execution_count": 70,
      "metadata": {
        "id": "YyekyeY7oSHO",
        "colab": {
          "base_uri": "https://localhost:8080/"
        },
        "outputId": "0d4e08e7-d747-41ed-baa0-57cfa07daf4c"
      },
      "outputs": [
        {
          "output_type": "stream",
          "name": "stdout",
          "text": [
            "(128,)\n",
            "(128,)\n",
            "(128,)\n",
            "(128,)\n",
            "(116,)\n",
            "End of epoch:  0\n",
            "(128,)\n",
            "(128,)\n",
            "(128,)\n",
            "(128,)\n",
            "(116,)\n",
            "End of epoch:  1\n",
            "(128,)\n",
            "(128,)\n",
            "(128,)\n",
            "(128,)\n",
            "(116,)\n",
            "End of epoch:  2\n"
          ]
        }
      ],
      "source": [
        "epochs = 3\n",
        "dataset = titanic_lines.batch(128)\n",
        "\n",
        "for epoch in range(epochs):\n",
        "  for batch in dataset:\n",
        "    print(batch.shape)\n",
        "  print(\"End of epoch: \", epoch)"
      ]
    },
    {
      "cell_type": "markdown",
      "metadata": {
        "id": "_Bci79WCoSHN"
      },
      "source": [
        "### Randomly shuffling input data\n",
        "\n",
        "The `Dataset.shuffle()` transformation maintains a fixed-size\n",
        "buffer and chooses the next element uniformly at random from that buffer.\n",
        "\n",
        "Note: While large buffer_sizes shuffle more thoroughly, they can take a lot of memory, and significant time to fill. Consider using `Dataset.interleave` across files if this becomes a problem."
      ]
    },
    {
      "cell_type": "markdown",
      "metadata": {
        "id": "6YvXr-qeoSHL"
      },
      "source": [
        "Add an index to the dataset so you can see the effect:"
      ]
    },
    {
      "cell_type": "code",
      "execution_count": 71,
      "metadata": {
        "id": "Io4iJH1toSHI",
        "colab": {
          "base_uri": "https://localhost:8080/"
        },
        "outputId": "48942abd-727f-4319-838f-b8d1549d2ffc"
      },
      "outputs": [
        {
          "output_type": "execute_result",
          "data": {
            "text/plain": [
              "<BatchDataset element_spec=(TensorSpec(shape=(None,), dtype=tf.int64, name=None), TensorSpec(shape=(None,), dtype=tf.string, name=None))>"
            ]
          },
          "metadata": {},
          "execution_count": 71
        }
      ],
      "source": [
        "lines = tf.data.TextLineDataset(titanic_file)\n",
        "counter = tf.data.experimental.Counter()\n",
        "\n",
        "dataset = tf.data.Dataset.zip((counter, lines))\n",
        "dataset = dataset.shuffle(buffer_size=100)\n",
        "dataset = dataset.batch(20)\n",
        "dataset"
      ]
    },
    {
      "cell_type": "markdown",
      "metadata": {
        "id": "T6tNYRcsoSHH"
      },
      "source": [
        "Since the `buffer_size` is 100, and the batch size is 20, the first batch contains no elements with an index over 120."
      ]
    },
    {
      "cell_type": "code",
      "execution_count": 72,
      "metadata": {
        "id": "ayM3FFFAoSHC",
        "colab": {
          "base_uri": "https://localhost:8080/"
        },
        "outputId": "8ffd7aaa-b9c3-47fd-ed59-ff01e93be99c"
      },
      "outputs": [
        {
          "output_type": "stream",
          "name": "stdout",
          "text": [
            "[ 64  97  17  80  52 100   1  27  28  49  34  51  87  32 106  92  36  35\n",
            "  83  99]\n"
          ]
        }
      ],
      "source": [
        "n,line_batch = next(iter(dataset))\n",
        "print(n.numpy())"
      ]
    },
    {
      "cell_type": "markdown",
      "metadata": {
        "id": "PLrfIjTHoSHB"
      },
      "source": [
        "As with `Dataset.batch` the order relative to `Dataset.repeat` matters.\n",
        "\n",
        "`Dataset.shuffle` doesn't signal the end of an epoch until the shuffle buffer is empty. So a shuffle placed before a repeat will show every element of one epoch before moving to the next:"
      ]
    },
    {
      "cell_type": "code",
      "execution_count": 73,
      "metadata": {
        "id": "YX3pe7zZoSG6",
        "colab": {
          "base_uri": "https://localhost:8080/"
        },
        "outputId": "fa745104-ff48-47ce-cf65-515acf16960f"
      },
      "outputs": [
        {
          "output_type": "stream",
          "name": "stdout",
          "text": [
            "Here are the item ID's near the epoch boundary:\n",
            "\n",
            "[584 367 598 575 600 561 551 622 615 477]\n",
            "[403 347 612 617 521 489 560 590 385 418]\n",
            "[533 623 596 556 543 618 566 373]\n",
            "[ 6 46  1 29 32 89 52 75 81 50]\n",
            "[ 72  23 107 102  74  57 113  86 106  13]\n"
          ]
        }
      ],
      "source": [
        "dataset = tf.data.Dataset.zip((counter, lines))\n",
        "shuffled = dataset.shuffle(buffer_size=100).batch(10).repeat(2)\n",
        "\n",
        "print(\"Here are the item ID's near the epoch boundary:\\n\")\n",
        "for n, line_batch in shuffled.skip(60).take(5):\n",
        "  print(n.numpy())"
      ]
    },
    {
      "cell_type": "code",
      "execution_count": 74,
      "metadata": {
        "id": "H9hlE-lGoSGz",
        "colab": {
          "base_uri": "https://localhost:8080/",
          "height": 282
        },
        "outputId": "a3ae0ea9-c4b9-4e3c-ee0c-654975c0ec01"
      },
      "outputs": [
        {
          "output_type": "execute_result",
          "data": {
            "text/plain": [
              "<matplotlib.legend.Legend at 0x7f03dc778590>"
            ]
          },
          "metadata": {},
          "execution_count": 74
        },
        {
          "output_type": "display_data",
          "data": {
            "text/plain": [
              "<Figure size 432x288 with 1 Axes>"
            ],
            "image/png": "[encoded data removed]"
          },
          "metadata": {
            "needs_background": "light"
          }
        }
      ],
      "source": [
        "shuffle_repeat = [n.numpy().mean() for n, line_batch in shuffled]\n",
        "plt.plot(shuffle_repeat, label=\"shuffle().repeat()\")\n",
        "plt.ylabel(\"Mean item ID\")\n",
        "plt.legend()"
      ]
    },
    {
      "cell_type": "markdown",
      "metadata": {
        "id": "UucIgCxWoSGx"
      },
      "source": [
        "But a repeat before a shuffle mixes the epoch boundaries together:"
      ]
    },
    {
      "cell_type": "code",
      "execution_count": 75,
      "metadata": {
        "id": "Bhxb5YGZoSGm",
        "colab": {
          "base_uri": "https://localhost:8080/"
        },
        "outputId": "e36610ba-10e2-4586-c1d1-a1afe2fb6ff8"
      },
      "outputs": [
        {
          "output_type": "stream",
          "name": "stdout",
          "text": [
            "Here are the item ID's near the epoch boundary:\n",
            "\n",
            "[ 38 348   5 550 473 519 570  24  22 584]\n",
            "[611 559 566 565 556  12 535 615  34 625]\n",
            "[448  39  17 493 571  35  17 470 524 568]\n",
            "[  4 530 307 522  53  44  18 520 582 264]\n",
            "[ 46   9  63 518  32  26  16  30 468 620]\n",
            "[623  13  41  74  28 573  70 444   2  45]\n",
            "[337 610  60  38 624 548  82  11  75 601]\n",
            "[569  79  91 564   8  58  72  43  84  80]\n",
            "[ 52 618  66  51  20 588  69 103  62 533]\n",
            "[578 540 591  67 598  15 547 111 106  81]\n",
            "[ 25  40 100  87  29  83 101  89   7  68]\n",
            "[  1  78  77 617  48 626  98   3 110  90]\n",
            "[401 109 581  93  49 600  31 592  36 142]\n",
            "[137 138 116  71 119 104  99  76 501 126]\n",
            "[123 152 133 499 158 107 130 167 115 131]\n"
          ]
        }
      ],
      "source": [
        "dataset = tf.data.Dataset.zip((counter, lines))\n",
        "shuffled = dataset.repeat(2).shuffle(buffer_size=100).batch(10)\n",
        "\n",
        "print(\"Here are the item ID's near the epoch boundary:\\n\")\n",
        "for n, line_batch in shuffled.skip(55).take(15):\n",
        "  print(n.numpy())"
      ]
    },
    {
      "cell_type": "code",
      "execution_count": 76,
      "metadata": {
        "id": "VAM4cbpZoSGL",
        "colab": {
          "base_uri": "https://localhost:8080/",
          "height": 286
        },
        "outputId": "faacc1b3-c64b-4de5-aece-818ad7ceca35"
      },
      "outputs": [
        {
          "output_type": "execute_result",
          "data": {
            "text/plain": [
              "<matplotlib.legend.Legend at 0x7f03dc747f10>"
            ]
          },
          "metadata": {},
          "execution_count": 76
        },
        {
          "output_type": "display_data",
          "data": {
            "text/plain": [
              "<Figure size 432x288 with 1 Axes>"
            ],
            "image/png": "[encoded data removed]"
          },
          "metadata": {
            "needs_background": "light"
          }
        }
      ],
      "source": [
        "repeat_shuffle = [n.numpy().mean() for n, line_batch in shuffled]\n",
        "\n",
        "plt.plot(shuffle_repeat, label=\"shuffle().repeat()\")\n",
        "plt.plot(repeat_shuffle, label=\"repeat().shuffle()\")\n",
        "plt.ylabel(\"Mean item ID\")\n",
        "plt.legend()"
      ]
    },
    {
      "cell_type": "markdown",
      "metadata": {
        "id": "ianlfbrxbDco"
      },
      "source": [
        "## Preprocessing data\n",
        "\n",
        "The `Dataset.map(f)` transformation produces a new dataset by applying a given\n",
        "function `f` to each element of the input dataset. It is based on the\n",
        "[`map()`](https://en.wikipedia.org/wiki/Map_\\(higher-order_function\\)) function\n",
        "that is commonly applied to lists (and other structures) in functional\n",
        "programming languages. The function `f` takes the `tf.Tensor` objects that\n",
        "represent a single element in the input, and returns the `tf.Tensor` objects\n",
        "that will represent a single element in the new dataset. Its implementation uses\n",
        "standard TensorFlow operations to transform one element into another.\n",
        "\n",
        "This section covers common examples of how to use `Dataset.map()`.\n"
      ]
    },
    {
      "cell_type": "markdown",
      "metadata": {
        "id": "UXw1IZVdbDcq"
      },
      "source": [
        "### Decoding image data and resizing it\n",
        "\n",
        "<!-- TODO(markdaoust): link to image augmentation when it exists -->\n",
        "When training a neural network on real-world image data, it is often necessary\n",
        "to convert images of different sizes to a common size, so that they may be\n",
        "batched into a fixed size.\n",
        "\n",
        "Rebuild the flower filenames dataset:"
      ]
    },
    {
      "cell_type": "code",
      "execution_count": 77,
      "metadata": {
        "id": "rMGlj8V-u-NH"
      },
      "outputs": [],
      "source": [
        "list_ds = tf.data.Dataset.list_files(str(flowers_root/'*/*'))"
      ]
    },
    {
      "cell_type": "markdown",
      "metadata": {
        "id": "GyhZLB8N5jBm"
      },
      "source": [
        "Write a function that manipulates the dataset elements."
      ]
    },
    {
      "cell_type": "code",
      "execution_count": 78,
      "metadata": {
        "id": "fZObC0debDcr"
      },
      "outputs": [],
      "source": [
        "# Reads an image from a file, decodes it into a dense tensor, and resizes it\n",
        "# to a fixed shape.\n",
        "def parse_image(filename):\n",
        "  parts = tf.strings.split(filename, os.sep)\n",
        "  label = parts[-2]\n",
        "\n",
        "  image = tf.io.read_file(filename)\n",
        "  image = tf.io.decode_jpeg(image)\n",
        "  image = tf.image.convert_image_dtype(image, tf.float32)\n",
        "  image = tf.image.resize(image, [128, 128])\n",
        "  return image, label"
      ]
    },
    {
      "cell_type": "markdown",
      "metadata": {
        "id": "e0dVJlCA5qHA"
      },
      "source": [
        "Test that it works."
      ]
    },
    {
      "cell_type": "code",
      "execution_count": 79,
      "metadata": {
        "id": "y8xuN_HBzGup",
        "colab": {
          "base_uri": "https://localhost:8080/",
          "height": 264
        },
        "outputId": "744fd11d-2b90-435c-d3f7-74740e6ec80b"
      },
      "outputs": [
        {
          "output_type": "display_data",
          "data": {
            "text/plain": [
              "<Figure size 432x288 with 1 Axes>"
            ],
            "image/png": "[encoded data removed]"
          },
          "metadata": {
            "needs_background": "light"
          }
        }
      ],
      "source": [
        "file_path = next(iter(list_ds))\n",
        "image, label = parse_image(file_path)\n",
        "\n",
        "def show(image, label):\n",
        "  plt.figure()\n",
        "  plt.imshow(image)\n",
        "  plt.title(label.numpy().decode('utf-8'))\n",
        "  plt.axis('off')\n",
        "\n",
        "show(image, label)"
      ]
    },
    {
      "cell_type": "markdown",
      "metadata": {
        "id": "d3P8N-S55vDu"
      },
      "source": [
        "Map it over the dataset."
      ]
    },
    {
      "cell_type": "code",
      "execution_count": 80,
      "metadata": {
        "id": "SzO8LI_H5Sk_",
        "colab": {
          "base_uri": "https://localhost:8080/",
          "height": 511
        },
        "outputId": "c0148768-a53f-4790-fcb3-1f3d74c9f10e"
      },
      "outputs": [
        {
          "output_type": "display_data",
          "data": {
            "text/plain": [
              "<Figure size 432x288 with 1 Axes>"
            ],
            "image/png": "[encoded data removed]"
          },
          "metadata": {
            "needs_background": "light"
          }
        },
        {
          "output_type": "display_data",
          "data": {
            "text/plain": [
              "<Figure size 432x288 with 1 Axes>"
            ],
            "image/png": "[encoded data removed]"
          },
          "metadata": {
            "needs_background": "light"
          }
        }
      ],
      "source": [
        "images_ds = list_ds.map(parse_image)\n",
        "\n",
        "for image, label in images_ds.take(2):\n",
        "  show(image, label)"
      ]
    },
    {
      "cell_type": "markdown",
      "metadata": {
        "id": "3Ff7IqB9bDcs"
      },
      "source": [
        "### Applying arbitrary Python logic\n",
        "\n",
        "For performance reasons, use TensorFlow operations for\n",
        "preprocessing your data whenever possible. However, it is sometimes useful to\n",
        "call external Python libraries when parsing your input data. You can use the `tf.py_function` operation in a `Dataset.map` transformation."
      ]
    },
    {
      "cell_type": "markdown",
      "metadata": {
        "id": "R2u7CeA67DU8"
      },
      "source": [
        "For example, if you want to apply a random rotation, the `tf.image` module only has `tf.image.rot90`, which is not very useful for image augmentation.\n",
        "\n",
        "Note: `tensorflow_addons` has a TensorFlow compatible `rotate` in `tensorflow_addons.image.rotate`.\n",
        "\n",
        "To demonstrate `tf.py_function`, try using the `scipy.ndimage.rotate` function instead:"
      ]
    },
    {
      "cell_type": "code",
      "execution_count": 81,
      "metadata": {
        "id": "tBUmbERt7Czz"
      },
      "outputs": [],
      "source": [
        "import scipy.ndimage as ndimage\n",
        "\n",
        "def random_rotate_image(image):\n",
        "  image = ndimage.rotate(image, np.random.uniform(-30, 30), reshape=False)\n",
        "  return image"
      ]
    },
    {
      "cell_type": "code",
      "execution_count": 82,
      "metadata": {
        "id": "_wEyL7bS9S6t",
        "colab": {
          "base_uri": "https://localhost:8080/",
          "height": 281
        },
        "outputId": "262e2fe7-b691-4eb0-db72-93ff1d8b2168"
      },
      "outputs": [
        {
          "output_type": "stream",
          "name": "stderr",
          "text": [
            "WARNING:matplotlib.image:Clipping input data to the valid range for imshow with RGB data ([0..1] for floats or [0..255] for integers).\n"
          ]
        },
        {
          "output_type": "display_data",
          "data": {
            "text/plain": [
              "<Figure size 432x288 with 1 Axes>"
            ],
            "image/png": "[encoded data removed]"
          },
          "metadata": {
            "needs_background": "light"
          }
        }
      ],
      "source": [
        "image, label = next(iter(images_ds))\n",
        "image = random_rotate_image(image)\n",
        "show(image, label)"
      ]
    },
    {
      "cell_type": "markdown",
      "metadata": {
        "id": "KxVx7z-ABNyq"
      },
      "source": [
        "To use this function with `Dataset.map` the same caveats apply as with `Dataset.from_generator`, you need to describe the return shapes and types when you apply the function:"
      ]
    },
    {
      "cell_type": "code",
      "execution_count": 83,
      "metadata": {
        "id": "Cn2nIu92BMp0"
      },
      "outputs": [],
      "source": [
        "def tf_random_rotate_image(image, label):\n",
        "  im_shape = image.shape\n",
        "  [image,] = tf.py_function(random_rotate_image, [image], [tf.float32])\n",
        "  image.set_shape(im_shape)\n",
        "  return image, label"
      ]
    },
    {
      "cell_type": "code",
      "execution_count": 84,
      "metadata": {
        "id": "bWPqKbTnbDct",
        "colab": {
          "base_uri": "https://localhost:8080/",
          "height": 546
        },
        "outputId": "31e97976-23c7-467b-8c19-576f1048dbc3"
      },
      "outputs": [
        {
          "output_type": "stream",
          "name": "stderr",
          "text": [
            "WARNING:matplotlib.image:Clipping input data to the valid range for imshow with RGB data ([0..1] for floats or [0..255] for integers).\n",
            "WARNING:matplotlib.image:Clipping input data to the valid range for imshow with RGB data ([0..1] for floats or [0..255] for integers).\n"
          ]
        },
        {
          "output_type": "display_data",
          "data": {
            "text/plain": [
              "<Figure size 432x288 with 1 Axes>"
            ],
            "image/png": "[encoded data removed]"
          },
          "metadata": {
            "needs_background": "light"
          }
        },
        {
          "output_type": "display_data",
          "data": {
            "text/plain": [
              "<Figure size 432x288 with 1 Axes>"
            ],
            "image/png": "[encoded data removed]"
          },
          "metadata": {
            "needs_background": "light"
          }
        }
      ],
      "source": [
        "rot_ds = images_ds.map(tf_random_rotate_image)\n",
        "\n",
        "for image, label in rot_ds.take(2):\n",
        "  show(image, label)"
      ]
    },
    {
      "cell_type": "markdown",
      "metadata": {
        "id": "ykx59-cMBwOT"
      },
      "source": [
        "### Parsing `tf.Example` protocol buffer messages\n",
        "\n",
        "Many input pipelines extract `tf.train.Example` protocol buffer messages from a\n",
        "TFRecord format. Each `tf.train.Example` record contains one or more \"features\",\n",
        "and the input pipeline typically converts these features into tensors."
      ]
    },
    {
      "cell_type": "code",
      "execution_count": 85,
      "metadata": {
        "id": "6wnE134b32KY",
        "colab": {
          "base_uri": "https://localhost:8080/"
        },
        "outputId": "1efc0cf6-7add-40a8-d804-4ec2c4ae035d"
      },
      "outputs": [
        {
          "output_type": "execute_result",
          "data": {
            "text/plain": [
              "<TFRecordDatasetV2 element_spec=TensorSpec(shape=(), dtype=tf.string, name=None)>"
            ]
          },
          "metadata": {},
          "execution_count": 85
        }
      ],
      "source": [
        "fsns_test_file = tf.keras.utils.get_file(\"fsns.tfrec\", \"https://storage.googleapis.com/download.tensorflow.org/data/fsns-20160927/testdata/fsns-00000-of-00001\")\n",
        "dataset = tf.data.TFRecordDataset(filenames = [fsns_test_file])\n",
        "dataset"
      ]
    },
    {
      "cell_type": "markdown",
      "metadata": {
        "id": "HGypdgYOlXZz"
      },
      "source": [
        "You can work with `tf.train.Example` protos outside of a `tf.data.Dataset` to understand the data:"
      ]
    },
    {
      "cell_type": "code",
      "execution_count": 86,
      "metadata": {
        "id": "4znsVNqnF73C",
        "colab": {
          "base_uri": "https://localhost:8080/",
          "height": 131
        },
        "outputId": "ccdecb00-2978-4a73-c8e1-6eee5a06fb7c"
      },
      "outputs": [
        {
          "output_type": "display_data",
          "data": {
            "text/plain": [
              "<Figure size 432x288 with 1 Axes>"
            ],
            "image/png": "[encoded data removed]"
          },
          "metadata": {
            "needs_background": "light"
          }
        }
      ],
      "source": [
        "raw_example = next(iter(dataset))\n",
        "parsed = tf.train.Example.FromString(raw_example.numpy())\n",
        "\n",
        "feature = parsed.features.feature\n",
        "raw_img = feature['image/encoded'].bytes_list.value[0]\n",
        "img = tf.image.decode_png(raw_img)\n",
        "plt.imshow(img)\n",
        "plt.axis('off')\n",
        "_ = plt.title(feature[\"image/text\"].bytes_list.value[0])"
      ]
    },
    {
      "cell_type": "code",
      "execution_count": 87,
      "metadata": {
        "id": "cwzqp8IGC_vQ"
      },
      "outputs": [],
      "source": [
        "raw_example = next(iter(dataset))"
      ]
    },
    {
      "cell_type": "code",
      "execution_count": 88,
      "metadata": {
        "id": "y2X1dQNfC8Lu"
      },
      "outputs": [],
      "source": [
        "def tf_parse(eg):\n",
        "  example = tf.io.parse_example(\n",
        "      eg[tf.newaxis], {\n",
        "          'image/encoded': tf.io.FixedLenFeature(shape=(), dtype=tf.string),\n",
        "          'image/text': tf.io.FixedLenFeature(shape=(), dtype=tf.string)\n",
        "      })\n",
        "  return example['image/encoded'][0], example['image/text'][0]"
      ]
    },
    {
      "cell_type": "code",
      "execution_count": 89,
      "metadata": {
        "id": "lGJhKDp_61A_",
        "colab": {
          "base_uri": "https://localhost:8080/"
        },
        "outputId": "32858f97-123b-4cce-f5fd-df509b739138"
      },
      "outputs": [
        {
          "output_type": "stream",
          "name": "stdout",
          "text": [
            "b'Rue Perreyon'\n",
            "b'\\x89PNG\\r\\n\\x1a\\n\\x00\\x00\\x00\\rIHDR\\x00\\x00\\x02X' ...\n"
          ]
        }
      ],
      "source": [
        "img, txt = tf_parse(raw_example)\n",
        "print(txt.numpy())\n",
        "print(repr(img.numpy()[:20]), \"...\")"
      ]
    },
    {
      "cell_type": "code",
      "execution_count": 90,
      "metadata": {
        "id": "8vFIUFzD5qIC",
        "colab": {
          "base_uri": "https://localhost:8080/"
        },
        "outputId": "0bda0792-133a-4f8b-ef4f-44fc1f08a6d8"
      },
      "outputs": [
        {
          "output_type": "execute_result",
          "data": {
            "text/plain": [
              "<MapDataset element_spec=(TensorSpec(shape=(), dtype=tf.string, name=None), TensorSpec(shape=(), dtype=tf.string, name=None))>"
            ]
          },
          "metadata": {},
          "execution_count": 90
        }
      ],
      "source": [
        "decoded = dataset.map(tf_parse)\n",
        "decoded"
      ]
    },
    {
      "cell_type": "code",
      "execution_count": 91,
      "metadata": {
        "id": "vRYNYkEej7Ix",
        "colab": {
          "base_uri": "https://localhost:8080/"
        },
        "outputId": "db4bd1a1-0360-406c-daba-e91897b971ea"
      },
      "outputs": [
        {
          "output_type": "execute_result",
          "data": {
            "text/plain": [
              "TensorShape([10])"
            ]
          },
          "metadata": {},
          "execution_count": 91
        }
      ],
      "source": [
        "image_batch, text_batch = next(iter(decoded.batch(10)))\n",
        "image_batch.shape"
      ]
    },
    {
      "cell_type": "markdown",
      "metadata": {
        "id": "ry1n0UBeczit"
      },
      "source": [
        "<a id=\"time_series_windowing\"></a>\n",
        "\n",
        "### Time series windowing"
      ]
    },
    {
      "cell_type": "markdown",
      "metadata": {
        "id": "t0JMgvXEz9y1"
      },
      "source": [
        "For an end-to-end time series example see: [Time series forecasting](../../tutorials/structured_data/time_series.ipynb)."
      ]
    },
    {
      "cell_type": "markdown",
      "metadata": {
        "id": "hzBABBkAkkVJ"
      },
      "source": [
        "Time series data is often organized with the time axis intact.\n",
        "\n",
        "Use a simple `Dataset.range` to demonstrate:"
      ]
    },
    {
      "cell_type": "code",
      "execution_count": 92,
      "metadata": {
        "id": "kTQgo49skjuY"
      },
      "outputs": [],
      "source": [
        "range_ds = tf.data.Dataset.range(100000)"
      ]
    },
    {
      "cell_type": "markdown",
      "metadata": {
        "id": "o6GLGhxgpazJ"
      },
      "source": [
        "Typically, models based on this sort of data will want a contiguous time slice.\n",
        "\n",
        "The simplest approach would be to batch the data:"
      ]
    },
    {
      "cell_type": "markdown",
      "metadata": {
        "id": "ETqB7QvTCNty"
      },
      "source": [
        "#### Using `batch`"
      ]
    },
    {
      "cell_type": "code",
      "execution_count": 93,
      "metadata": {
        "id": "pSs9XqwQpvIN",
        "colab": {
          "base_uri": "https://localhost:8080/"
        },
        "outputId": "fc3df923-48c6-44f3-adcc-ec4def4f80f1"
      },
      "outputs": [
        {
          "output_type": "stream",
          "name": "stdout",
          "text": [
            "[0 1 2 3 4 5 6 7 8 9]\n",
            "[10 11 12 13 14 15 16 17 18 19]\n",
            "[20 21 22 23 24 25 26 27 28 29]\n",
            "[30 31 32 33 34 35 36 37 38 39]\n",
            "[40 41 42 43 44 45 46 47 48 49]\n"
          ]
        }
      ],
      "source": [
        "batches = range_ds.batch(10, drop_remainder=True)\n",
        "\n",
        "for batch in batches.take(5):\n",
        "  print(batch.numpy())"
      ]
    },
    {
      "cell_type": "markdown",
      "metadata": {
        "id": "mgb2qikEtk5W"
      },
      "source": [
        "Or to make dense predictions one step into the future, you might shift the features and labels by one step relative to each other:"
      ]
    },
    {
      "cell_type": "code",
      "execution_count": 94,
      "metadata": {
        "id": "47XfwPhetkIN",
        "colab": {
          "base_uri": "https://localhost:8080/"
        },
        "outputId": "9f34643d-458c-4e39-a1bc-d8ee1fbccef6"
      },
      "outputs": [
        {
          "output_type": "stream",
          "name": "stdout",
          "text": [
            "[0 1 2 3 4 5 6 7 8]  =>  [1 2 3 4 5 6 7 8 9]\n",
            "[10 11 12 13 14 15 16 17 18]  =>  [11 12 13 14 15 16 17 18 19]\n",
            "[20 21 22 23 24 25 26 27 28]  =>  [21 22 23 24 25 26 27 28 29]\n"
          ]
        }
      ],
      "source": [
        "def dense_1_step(batch):\n",
        "  # Shift features and labels one step relative to each other.\n",
        "  return batch[:-1], batch[1:]\n",
        "\n",
        "predict_dense_1_step = batches.map(dense_1_step)\n",
        "\n",
        "for features, label in predict_dense_1_step.take(3):\n",
        "  print(features.numpy(), \" => \", label.numpy())"
      ]
    },
    {
      "cell_type": "markdown",
      "metadata": {
        "id": "DjsXuINKqsS_"
      },
      "source": [
        "To predict a whole window instead of a fixed offset you can split the batches into two parts:"
      ]
    },
    {
      "cell_type": "code",
      "execution_count": 95,
      "metadata": {
        "id": "FMmkQB1Gqo6x",
        "colab": {
          "base_uri": "https://localhost:8080/"
        },
        "outputId": "481b498e-5a10-4576-a87b-4ee83a72f405"
      },
      "outputs": [
        {
          "output_type": "stream",
          "name": "stdout",
          "text": [
            "[0 1 2 3 4 5 6 7 8 9]  =>  [10 11 12 13 14]\n",
            "[15 16 17 18 19 20 21 22 23 24]  =>  [25 26 27 28 29]\n",
            "[30 31 32 33 34 35 36 37 38 39]  =>  [40 41 42 43 44]\n"
          ]
        }
      ],
      "source": [
        "batches = range_ds.batch(15, drop_remainder=True)\n",
        "\n",
        "def label_next_5_steps(batch):\n",
        "  return (batch[:-5],   # Inputs: All except the last 5 steps\n",
        "          batch[-5:])   # Labels: The last 5 steps\n",
        "\n",
        "predict_5_steps = batches.map(label_next_5_steps)\n",
        "\n",
        "for features, label in predict_5_steps.take(3):\n",
        "  print(features.numpy(), \" => \", label.numpy())"
      ]
    },
    {
      "cell_type": "markdown",
      "metadata": {
        "id": "5a611Qr3jlhl"
      },
      "source": [
        "To allow some overlap between the features of one batch and the labels of another, use `Dataset.zip`:"
      ]
    },
    {
      "cell_type": "code",
      "execution_count": 96,
      "metadata": {
        "id": "11dF3wyFjk2J",
        "colab": {
          "base_uri": "https://localhost:8080/"
        },
        "outputId": "71fef8e7-f27a-4653-b90a-c08d3d52b529"
      },
      "outputs": [
        {
          "output_type": "stream",
          "name": "stdout",
          "text": [
            "[0 1 2 3 4 5 6 7 8 9]  =>  [10 11 12]\n",
            "[10 11 12 13 14 15 16 17 18 19]  =>  [20 21 22]\n",
            "[20 21 22 23 24 25 26 27 28 29]  =>  [30 31 32]\n",
            "[30 31 32 33 34 35 36 37 38 39]  =>  [40 41 42]\n",
            "[40 41 42 43 44 45 46 47 48 49]  =>  [50 51 52]\n"
          ]
        }
      ],
      "source": [
        "feature_length = 10\n",
        "label_length = 3\n",
        "\n",
        "features = range_ds.batch(feature_length, drop_remainder=True)\n",
        "labels = range_ds.batch(feature_length).skip(1).map(lambda labels: labels[:label_length])\n",
        "\n",
        "predicted_steps = tf.data.Dataset.zip((features, labels))\n",
        "\n",
        "for features, label in predicted_steps.take(5):\n",
        "  print(features.numpy(), \" => \", label.numpy())"
      ]
    },
    {
      "cell_type": "markdown",
      "metadata": {
        "id": "adew3o2mCURC"
      },
      "source": [
        "#### Using `window`"
      ]
    },
    {
      "cell_type": "markdown",
      "metadata": {
        "id": "fF6pEdlduq8E"
      },
      "source": [
        "While using `Dataset.batch` works, there are situations where you may need finer control. The `Dataset.window` method gives you complete control, but requires some care: it returns a `Dataset` of `Datasets`. Go to the [Dataset structure](#dataset_structure) section for details."
      ]
    },
    {
      "cell_type": "code",
      "execution_count": 97,
      "metadata": {
        "id": "ZEI2W_EBw2OX",
        "colab": {
          "base_uri": "https://localhost:8080/"
        },
        "outputId": "969a65e7-6d0b-4da6-97ac-1384b77e8206"
      },
      "outputs": [
        {
          "output_type": "stream",
          "name": "stdout",
          "text": [
            "<_VariantDataset element_spec=TensorSpec(shape=(), dtype=tf.int64, name=None)>\n",
            "<_VariantDataset element_spec=TensorSpec(shape=(), dtype=tf.int64, name=None)>\n",
            "<_VariantDataset element_spec=TensorSpec(shape=(), dtype=tf.int64, name=None)>\n",
            "<_VariantDataset element_spec=TensorSpec(shape=(), dtype=tf.int64, name=None)>\n",
            "<_VariantDataset element_spec=TensorSpec(shape=(), dtype=tf.int64, name=None)>\n"
          ]
        }
      ],
      "source": [
        "window_size = 5\n",
        "\n",
        "windows = range_ds.window(window_size, shift=1)\n",
        "for sub_ds in windows.take(5):\n",
        "  print(sub_ds)"
      ]
    },
    {
      "cell_type": "markdown",
      "metadata": {
        "id": "r82hWdk4x-46"
      },
      "source": [
        "The `Dataset.flat_map` method can take a dataset of datasets and flatten it into a single dataset:"
      ]
    },
    {
      "cell_type": "code",
      "execution_count": 98,
      "metadata": {
        "id": "SB8AI03mnF8u",
        "colab": {
          "base_uri": "https://localhost:8080/"
        },
        "outputId": "a6ceb4bb-9594-44d3-c890-b1e8abfd662f"
      },
      "outputs": [
        {
          "output_type": "stream",
          "name": "stdout",
          "text": [
            "0 1 2 3 4 1 2 3 4 5 2 3 4 5 6 3 4 5 6 7 4 5 6 7 8 5 6 7 8 9 "
          ]
        }
      ],
      "source": [
        " for x in windows.flat_map(lambda x: x).take(30):\n",
        "   print(x.numpy(), end=' ')"
      ]
    },
    {
      "cell_type": "markdown",
      "metadata": {
        "id": "sgLIwq9Anc34"
      },
      "source": [
        "In nearly all cases, you will want to `Dataset.batch` the dataset first:"
      ]
    },
    {
      "cell_type": "code",
      "execution_count": 99,
      "metadata": {
        "id": "5j_y84rmyVQa",
        "colab": {
          "base_uri": "https://localhost:8080/"
        },
        "outputId": "1dcba93a-957d-46ab-ba96-8b8b29cd577b"
      },
      "outputs": [
        {
          "output_type": "stream",
          "name": "stdout",
          "text": [
            "[0 1 2 3 4]\n",
            "[1 2 3 4 5]\n",
            "[2 3 4 5 6]\n",
            "[3 4 5 6 7]\n",
            "[4 5 6 7 8]\n"
          ]
        }
      ],
      "source": [
        "def sub_to_batch(sub):\n",
        "  return sub.batch(window_size, drop_remainder=True)\n",
        "\n",
        "for example in windows.flat_map(sub_to_batch).take(5):\n",
        "  print(example.numpy())"
      ]
    },
    {
      "cell_type": "markdown",
      "metadata": {
        "id": "hVugrmND3Grp"
      },
      "source": [
        "Now, you can see that the `shift` argument controls how much each window moves over.\n",
        "\n",
        "Putting this together you might write this function:"
      ]
    },
    {
      "cell_type": "code",
      "execution_count": 100,
      "metadata": {
        "id": "LdFRv_0D4FqW"
      },
      "outputs": [],
      "source": [
        "def make_window_dataset(ds, window_size=5, shift=1, stride=1):\n",
        "  windows = ds.window(window_size, shift=shift, stride=stride)\n",
        "\n",
        "  def sub_to_batch(sub):\n",
        "    return sub.batch(window_size, drop_remainder=True)\n",
        "\n",
        "  windows = windows.flat_map(sub_to_batch)\n",
        "  return windows\n"
      ]
    },
    {
      "cell_type": "code",
      "execution_count": 101,
      "metadata": {
        "id": "-iVxcVfEdf5b",
        "colab": {
          "base_uri": "https://localhost:8080/"
        },
        "outputId": "3fa1f668-e504-4846-b4b1-6267f3975ee6"
      },
      "outputs": [
        {
          "output_type": "stream",
          "name": "stdout",
          "text": [
            "[ 0  3  6  9 12 15 18 21 24 27]\n",
            "[ 5  8 11 14 17 20 23 26 29 32]\n",
            "[10 13 16 19 22 25 28 31 34 37]\n",
            "[15 18 21 24 27 30 33 36 39 42]\n",
            "[20 23 26 29 32 35 38 41 44 47]\n",
            "[25 28 31 34 37 40 43 46 49 52]\n",
            "[30 33 36 39 42 45 48 51 54 57]\n",
            "[35 38 41 44 47 50 53 56 59 62]\n",
            "[40 43 46 49 52 55 58 61 64 67]\n",
            "[45 48 51 54 57 60 63 66 69 72]\n"
          ]
        }
      ],
      "source": [
        "ds = make_window_dataset(range_ds, window_size=10, shift = 5, stride=3)\n",
        "\n",
        "for example in ds.take(10):\n",
        "  print(example.numpy())"
      ]
    },
    {
      "cell_type": "markdown",
      "metadata": {
        "id": "fMGMTPQ4w8pr"
      },
      "source": [
        "Then it's easy to extract labels, as before:"
      ]
    },
    {
      "cell_type": "code",
      "execution_count": 102,
      "metadata": {
        "id": "F0fPfZkZw6j_",
        "colab": {
          "base_uri": "https://localhost:8080/"
        },
        "outputId": "bb8419cd-7bd6-4f27-a9c2-4100c529368e"
      },
      "outputs": [
        {
          "output_type": "stream",
          "name": "stdout",
          "text": [
            "[ 0  3  6  9 12 15 18 21 24] => [ 3  6  9 12 15 18 21 24 27]\n",
            "[ 5  8 11 14 17 20 23 26 29] => [ 8 11 14 17 20 23 26 29 32]\n",
            "[10 13 16 19 22 25 28 31 34] => [13 16 19 22 25 28 31 34 37]\n"
          ]
        }
      ],
      "source": [
        "dense_labels_ds = ds.map(dense_1_step)\n",
        "\n",
        "for inputs,labels in dense_labels_ds.take(3):\n",
        "  print(inputs.numpy(), \"=>\", labels.numpy())"
      ]
    },
    {
      "cell_type": "markdown",
      "metadata": {
        "id": "vyi_-ft0kvy4"
      },
      "source": [
        "### Resampling\n",
        "\n",
        "When working with a dataset that is very class-imbalanced, you may want to resample the dataset. `tf.data` provides two methods to do this. The credit card fraud dataset is a good example of this sort of problem.\n",
        "\n",
        "Note: Go to [Classification on imbalanced data](../tutorials/structured_data/imbalanced_data.ipynb) for a full tutorial.\n"
      ]
    },
    {
      "cell_type": "code",
      "execution_count": 103,
      "metadata": {
        "id": "U2e8dxVUlFHO",
        "colab": {
          "base_uri": "https://localhost:8080/"
        },
        "outputId": "23ecb9c8-aebd-43ae-be6d-c37551ff7faf"
      },
      "outputs": [
        {
          "output_type": "stream",
          "name": "stdout",
          "text": [
            "Downloading data from https://storage.googleapis.com/download.tensorflow.org/data/creditcard.zip\n",
            "69155632/69155632 [==============================] - 0s 0us/step\n"
          ]
        }
      ],
      "source": [
        "zip_path = tf.keras.utils.get_file(\n",
        "    origin='https://storage.googleapis.com/download.tensorflow.org/data/creditcard.zip',\n",
        "    fname='creditcard.zip',\n",
        "    extract=True)\n",
        "\n",
        "csv_path = zip_path.replace('.zip', '.csv')"
      ]
    },
    {
      "cell_type": "code",
      "execution_count": 104,
      "metadata": {
        "id": "EhkkM4Wx75S_"
      },
      "outputs": [],
      "source": [
        "creditcard_ds = tf.data.experimental.make_csv_dataset(\n",
        "    csv_path, batch_size=1024, label_name=\"Class\",\n",
        "    # Set the column types: 30 floats and an int.\n",
        "    column_defaults=[float()]*30+[int()])"
      ]
    },
    {
      "cell_type": "markdown",
      "metadata": {
        "id": "A8O47EmHlxYX"
      },
      "source": [
        "Now, check the distribution of classes, it is highly skewed:"
      ]
    },
    {
      "cell_type": "code",
      "execution_count": 105,
      "metadata": {
        "id": "a8-Ss69XlzXD"
      },
      "outputs": [],
      "source": [
        "def count(counts, batch):\n",
        "  features, labels = batch\n",
        "  class_1 = labels == 1\n",
        "  class_1 = tf.cast(class_1, tf.int32)\n",
        "\n",
        "  class_0 = labels == 0\n",
        "  class_0 = tf.cast(class_0, tf.int32)\n",
        "\n",
        "  counts['class_0'] += tf.reduce_sum(class_0)\n",
        "  counts['class_1'] += tf.reduce_sum(class_1)\n",
        "\n",
        "  return counts"
      ]
    },
    {
      "cell_type": "code",
      "execution_count": 106,
      "metadata": {
        "id": "O1a3t_B4l_f6",
        "colab": {
          "base_uri": "https://localhost:8080/"
        },
        "outputId": "7ae3c9c6-e774-4416-da10-2f2593085e7e"
      },
      "outputs": [
        {
          "output_type": "stream",
          "name": "stdout",
          "text": [
            "[0.996 0.004]\n"
          ]
        }
      ],
      "source": [
        "counts = creditcard_ds.take(10).reduce(\n",
        "    initial_state={'class_0': 0, 'class_1': 0},\n",
        "    reduce_func = count)\n",
        "\n",
        "counts = np.array([counts['class_0'].numpy(),\n",
        "                   counts['class_1'].numpy()]).astype(np.float32)\n",
        "\n",
        "fractions = counts/counts.sum()\n",
        "print(fractions)"
      ]
    },
    {
      "cell_type": "markdown",
      "metadata": {
        "id": "z1b8lFhSnDdv"
      },
      "source": [
        "A common approach to training with an imbalanced dataset is to balance it. `tf.data` includes a few methods which enable this workflow:"
      ]
    },
    {
      "cell_type": "markdown",
      "metadata": {
        "id": "y8jQWsgMnjQG"
      },
      "source": [
        "#### Datasets sampling"
      ]
    },
    {
      "cell_type": "markdown",
      "metadata": {
        "id": "ov14SRrQyQE3"
      },
      "source": [
        "One approach to resampling a dataset is to use `sample_from_datasets`. This is more applicable when you have a separate `tf.data.Dataset` for each class.\n",
        "\n",
        "Here, just use filter to generate them from the credit card fraud data:"
      ]
    },
    {
      "cell_type": "code",
      "execution_count": 107,
      "metadata": {
        "id": "6YKfCPa-nioA"
      },
      "outputs": [],
      "source": [
        "negative_ds = (\n",
        "  creditcard_ds\n",
        "    .unbatch()\n",
        "    .filter(lambda features, label: label==0)\n",
        "    .repeat())\n",
        "positive_ds = (\n",
        "  creditcard_ds\n",
        "    .unbatch()\n",
        "    .filter(lambda features, label: label==1)\n",
        "    .repeat())"
      ]
    },
    {
      "cell_type": "code",
      "execution_count": 108,
      "metadata": {
        "id": "8FNd3sQjzl9-",
        "colab": {
          "base_uri": "https://localhost:8080/"
        },
        "outputId": "c97c79c0-3450-4807-bec9-3c0d62c144e4"
      },
      "outputs": [
        {
          "output_type": "stream",
          "name": "stdout",
          "text": [
            "[1 1 1 1 1 1 1 1 1 1]\n"
          ]
        }
      ],
      "source": [
        "for features, label in positive_ds.batch(10).take(1):\n",
        "  print(label.numpy())"
      ]
    },
    {
      "cell_type": "markdown",
      "metadata": {
        "id": "GxLAr-7p0ATX"
      },
      "source": [
        "To use `tf.data.Dataset.sample_from_datasets` pass the datasets, and the weight for each:"
      ]
    },
    {
      "cell_type": "code",
      "execution_count": 109,
      "metadata": {
        "id": "vjdPVIFCngOb"
      },
      "outputs": [],
      "source": [
        "balanced_ds = tf.data.Dataset.sample_from_datasets(\n",
        "    [negative_ds, positive_ds], [0.5, 0.5]).batch(10)"
      ]
    },
    {
      "cell_type": "markdown",
      "metadata": {
        "id": "2K4ObOms082B"
      },
      "source": [
        "Now the dataset produces examples of each class with a 50/50 probability:"
      ]
    },
    {
      "cell_type": "code",
      "execution_count": 110,
      "metadata": {
        "id": "Myvkw21Rz-fH",
        "colab": {
          "base_uri": "https://localhost:8080/"
        },
        "outputId": "b25ffa91-ad9a-489c-a043-0781bbc5d08a"
      },
      "outputs": [
        {
          "output_type": "stream",
          "name": "stdout",
          "text": [
            "[0 1 1 0 0 1 1 1 1 1]\n",
            "[0 0 0 1 0 0 0 0 1 0]\n",
            "[0 0 0 0 0 1 0 1 1 1]\n",
            "[1 0 0 0 1 1 0 1 0 0]\n",
            "[0 1 1 1 1 1 0 1 0 1]\n",
            "[0 1 1 1 1 0 0 0 1 0]\n",
            "[1 0 1 1 0 1 1 1 0 0]\n",
            "[0 0 1 0 1 1 0 1 0 0]\n",
            "[0 1 1 0 0 0 0 0 0 0]\n",
            "[0 1 1 0 0 1 0 0 0 0]\n"
          ]
        }
      ],
      "source": [
        "for features, labels in balanced_ds.take(10):\n",
        "  print(labels.numpy())"
      ]
    },
    {
      "cell_type": "markdown",
      "metadata": {
        "id": "OUTE3eb9nckY"
      },
      "source": [
        "#### Rejection resampling"
      ]
    },
    {
      "cell_type": "markdown",
      "metadata": {
        "id": "kZ9ezkK6irMD"
      },
      "source": [
        "One problem with the above `Dataset.sample_from_datasets` approach is that\n",
        "it needs a separate `tf.data.Dataset` per class. You could use `Dataset.filter`\n",
        "to create those two datasets, but that results in all the data being loaded twice.\n",
        "\n",
        "The `tf.data.Dataset.rejection_resample` method can be applied to a dataset to rebalance it, while only loading it once. Elements will be dropped or repeated to achieve balance.\n",
        "\n",
        "The `rejection_resample` method takes a `class_func` argument. This `class_func` is applied to each dataset element, and is used to determine which class an example belongs to for the purposes of balancing.\n",
        "\n",
        "The goal here is to balance the label distribution, and the elements of `creditcard_ds` are already `(features, label)` pairs. So the `class_func` just needs to return those labels:"
      ]
    },
    {
      "cell_type": "code",
      "execution_count": 111,
      "metadata": {
        "id": "zC_Cuzw8lhI5"
      },
      "outputs": [],
      "source": [
        "def class_func(features, label):\n",
        "  return label"
      ]
    },
    {
      "cell_type": "markdown",
      "metadata": {
        "id": "YxJrOZVToGuE"
      },
      "source": [
        "The resampling method deals with individual examples, so in this case you must `unbatch` the dataset before applying that method.\n",
        "\n",
        "The method needs a target distribution, and optionally an initial distribution estimate as inputs."
      ]
    },
    {
      "cell_type": "code",
      "execution_count": 112,
      "metadata": {
        "id": "fY6VIhr3oGHG",
        "colab": {
          "base_uri": "https://localhost:8080/"
        },
        "outputId": "4423a138-057b-43c0-e99e-5e50a51dbc14"
      },
      "outputs": [
        {
          "output_type": "stream",
          "name": "stderr",
          "text": [
            "WARNING:tensorflow:From /usr/local/lib/python3.7/dist-packages/tensorflow/python/data/ops/dataset_ops.py:5825: Print (from tensorflow.python.ops.logging_ops) is deprecated and will be removed after 2018-08-20.\n",
            "Instructions for updating:\n",
            "Use tf.print instead of tf.Print. Note that tf.print returns a no-output operator that directly prints the output. Outside of defuns or eager mode, this operator will not be executed unless it is directly specified in session.run or used as a control dependency for other operators. This is only a concern in graph mode. Below is an example of how to ensure tf.print executes in graph mode:\n",
            "\n"
          ]
        }
      ],
      "source": [
        "resample_ds = (\n",
        "    creditcard_ds\n",
        "    .unbatch()\n",
        "    .rejection_resample(class_func, target_dist=[0.5,0.5],\n",
        "                        initial_dist=fractions)\n",
        "    .batch(10))"
      ]
    },
    {
      "cell_type": "markdown",
      "metadata": {
        "id": "L-HnC1s8idqV"
      },
      "source": [
        "The `rejection_resample` method returns `(class, example)` pairs where the `class` is the output of the `class_func`. In this case, the `example` was already a `(feature, label)` pair, so use `map` to drop the extra copy of the labels:"
      ]
    },
    {
      "cell_type": "code",
      "execution_count": 113,
      "metadata": {
        "id": "KpfCGU6BiaZq"
      },
      "outputs": [],
      "source": [
        "balanced_ds = resample_ds.map(lambda extra_label, features_and_label: features_and_label)"
      ]
    },
    {
      "cell_type": "markdown",
      "metadata": {
        "id": "j3d2jyEhx9kD"
      },
      "source": [
        "Now the dataset produces examples of each class with a 50/50 probability:"
      ]
    },
    {
      "cell_type": "code",
      "execution_count": 114,
      "metadata": {
        "id": "XGLYChBQwkDV",
        "colab": {
          "base_uri": "https://localhost:8080/"
        },
        "outputId": "6af6ac1e-8742-4ac0-bd2c-3ed8cd0d2d54"
      },
      "outputs": [
        {
          "output_type": "stream",
          "name": "stdout",
          "text": [
            "[1 0 0 1 0 1 0 0 0 1]\n",
            "[1 0 1 0 0 0 1 1 0 1]\n",
            "[0 0 1 1 0 0 1 0 0 0]\n",
            "[0 0 1 0 0 1 1 0 0 1]\n",
            "[0 0 0 0 0 0 0 1 0 1]\n",
            "[0 1 0 1 1 0 0 1 1 1]\n",
            "[1 0 1 0 1 1 0 1 0 1]\n",
            "[0 1 1 1 1 0 0 1 1 0]\n",
            "[0 1 1 0 1 1 0 0 0 0]\n",
            "[1 0 0 0 1 1 0 0 1 1]\n"
          ]
        }
      ],
      "source": [
        "for features, labels in balanced_ds.take(10):\n",
        "  print(labels.numpy())"
      ]
    },
    {
      "cell_type": "markdown",
      "metadata": {
        "id": "vYFKQx3bUBeU"
      },
      "source": [
        "## Iterator Checkpointing"
      ]
    },
    {
      "cell_type": "markdown",
      "metadata": {
        "id": "SOGg1UFhUE4z"
      },
      "source": [
        "Tensorflow supports [taking checkpoints](./checkpoint.ipynb) so that when your training process restarts it can restore the latest checkpoint to recover most of its progress. In addition to checkpointing the model variables, you can also checkpoint the progress of the dataset iterator. This could be useful if you have a large dataset and don't want to start the dataset from the beginning on each restart. Note however that iterator checkpoints may be large, since transformations such as `Dataset.shuffle` and `Dataset.prefetch` require buffering elements within the iterator.\n",
        "\n",
        "To include your iterator in a checkpoint, pass the iterator to the `tf.train.Checkpoint` constructor."
      ]
    },
    {
      "cell_type": "code",
      "execution_count": 115,
      "metadata": {
        "id": "3Fsm9wvKUsNC",
        "colab": {
          "base_uri": "https://localhost:8080/"
        },
        "outputId": "e7d5a298-7940-4557-cadf-99da2a8cc1d9"
      },
      "outputs": [
        {
          "output_type": "stream",
          "name": "stdout",
          "text": [
            "[0, 1, 2, 3, 4]\n",
            "[5, 6, 7, 8, 9]\n",
            "[5, 6, 7, 8, 9]\n"
          ]
        }
      ],
      "source": [
        "range_ds = tf.data.Dataset.range(20)\n",
        "\n",
        "iterator = iter(range_ds)\n",
        "ckpt = tf.train.Checkpoint(step=tf.Variable(0), iterator=iterator)\n",
        "manager = tf.train.CheckpointManager(ckpt, '/tmp/my_ckpt', max_to_keep=3)\n",
        "\n",
        "print([next(iterator).numpy() for _ in range(5)])\n",
        "\n",
        "save_path = manager.save()\n",
        "\n",
        "print([next(iterator).numpy() for _ in range(5)])\n",
        "\n",
        "ckpt.restore(manager.latest_checkpoint)\n",
        "\n",
        "print([next(iterator).numpy() for _ in range(5)])"
      ]
    },
    {
      "cell_type": "markdown",
      "metadata": {
        "id": "gxWglTwX9Fex"
      },
      "source": [
        "Note: It is not possible to checkpoint an iterator which relies on an external state, such as a `tf.py_function`. Attempting to do so will raise an exception complaining about the external state."
      ]
    },
    {
      "cell_type": "markdown",
      "metadata": {
        "id": "uLRdedPpbDdD"
      },
      "source": [
        "## Using `tf.data` with `tf.keras`"
      ]
    },
    {
      "cell_type": "markdown",
      "metadata": {
        "id": "JTQe8daMcgFz"
      },
      "source": [
        "The `tf.keras` API simplifies many aspects of creating and executing machine\n",
        "learning models. Its `Model.fit` and `Model.evaluate` and `Model.predict` APIs support datasets as inputs. Here is a quick dataset and model setup:"
      ]
    },
    {
      "cell_type": "code",
      "execution_count": 116,
      "metadata": {
        "id": "-bfjqm0hOfES"
      },
      "outputs": [],
      "source": [
        "train, test = tf.keras.datasets.fashion_mnist.load_data()\n",
        "\n",
        "images, labels = train\n",
        "images = images/255.0\n",
        "labels = labels.astype(np.int32)"
      ]
    },
    {
      "cell_type": "code",
      "execution_count": 117,
      "metadata": {
        "id": "wDhF3rGnbDdD"
      },
      "outputs": [],
      "source": [
        "fmnist_train_ds = tf.data.Dataset.from_tensor_slices((images, labels))\n",
        "fmnist_train_ds = fmnist_train_ds.shuffle(5000).batch(32)\n",
        "\n",
        "model = tf.keras.Sequential([\n",
        "  tf.keras.layers.Flatten(),\n",
        "  tf.keras.layers.Dense(10)\n",
        "])\n",
        "\n",
        "model.compile(optimizer='adam',\n",
        "              loss=tf.keras.losses.SparseCategoricalCrossentropy(from_logits=True), \n",
        "              metrics=['accuracy'])"
      ]
    },
    {
      "cell_type": "markdown",
      "metadata": {
        "id": "Rdogg8CfHs-G"
      },
      "source": [
        " Passing a dataset of `(feature, label)` pairs is all that's needed for `Model.fit` and `Model.evaluate`:"
      ]
    },
    {
      "cell_type": "code",
      "execution_count": 118,
      "metadata": {
        "id": "9cu4kPzOHnlt",
        "colab": {
          "base_uri": "https://localhost:8080/"
        },
        "outputId": "b7fd3c35-9127-43ca-9356-3418a5549817"
      },
      "outputs": [
        {
          "output_type": "stream",
          "name": "stdout",
          "text": [
            "Epoch 1/2\n",
            "1875/1875 [==============================] - 5s 2ms/step - loss: 0.6033 - accuracy: 0.7970\n",
            "Epoch 2/2\n",
            "1875/1875 [==============================] - 4s 2ms/step - loss: 0.4627 - accuracy: 0.8417\n"
          ]
        },
        {
          "output_type": "execute_result",
          "data": {
            "text/plain": [
              "<keras.callbacks.History at 0x7f03db413350>"
            ]
          },
          "metadata": {},
          "execution_count": 118
        }
      ],
      "source": [
        "model.fit(fmnist_train_ds, epochs=2)"
      ]
    },
    {
      "cell_type": "markdown",
      "metadata": {
        "id": "FzpAQfJMJF41"
      },
      "source": [
        "If you pass an infinite dataset, for example by calling `Dataset.repeat`, you just need to also pass the `steps_per_epoch` argument:"
      ]
    },
    {
      "cell_type": "code",
      "execution_count": 119,
      "metadata": {
        "id": "Bp1BpzlyJinb",
        "colab": {
          "base_uri": "https://localhost:8080/"
        },
        "outputId": "d8f888fe-ea95-4275-d9e2-adc99a2e44f4"
      },
      "outputs": [
        {
          "output_type": "stream",
          "name": "stdout",
          "text": [
            "Epoch 1/2\n",
            "20/20 [==============================] - 0s 3ms/step - loss: 0.4329 - accuracy: 0.8734\n",
            "Epoch 2/2\n",
            "20/20 [==============================] - 0s 2ms/step - loss: 0.4005 - accuracy: 0.8484\n"
          ]
        },
        {
          "output_type": "execute_result",
          "data": {
            "text/plain": [
              "<keras.callbacks.History at 0x7f03db413650>"
            ]
          },
          "metadata": {},
          "execution_count": 119
        }
      ],
      "source": [
        "model.fit(fmnist_train_ds.repeat(), epochs=2, steps_per_epoch=20)"
      ]
    },
    {
      "cell_type": "markdown",
      "metadata": {
        "id": "iTLsw_nqJpTw"
      },
      "source": [
        "For evaluation you can pass the number of evaluation steps:"
      ]
    },
    {
      "cell_type": "code",
      "execution_count": 120,
      "metadata": {
        "id": "TnlRHlaL-XUI",
        "colab": {
          "base_uri": "https://localhost:8080/"
        },
        "outputId": "99252fa6-6cf4-43c6-f094-eee55c20b324"
      },
      "outputs": [
        {
          "output_type": "stream",
          "name": "stdout",
          "text": [
            "1875/1875 [==============================] - 3s 2ms/step - loss: 0.4400 - accuracy: 0.8483\n",
            "Loss : 0.4400193393230438\n",
            "Accuracy : 0.8483333587646484\n"
          ]
        }
      ],
      "source": [
        "loss, accuracy = model.evaluate(fmnist_train_ds)\n",
        "print(\"Loss :\", loss)\n",
        "print(\"Accuracy :\", accuracy)"
      ]
    },
    {
      "cell_type": "markdown",
      "metadata": {
        "id": "C8UBU3CJKEA4"
      },
      "source": [
        "For long datasets, set the number of steps to evaluate:"
      ]
    },
    {
      "cell_type": "code",
      "execution_count": 121,
      "metadata": {
        "id": "uVgamf9HKDon",
        "colab": {
          "base_uri": "https://localhost:8080/"
        },
        "outputId": "90d428e6-c0ca-4de2-88b5-6b6133761723"
      },
      "outputs": [
        {
          "output_type": "stream",
          "name": "stdout",
          "text": [
            "10/10 [==============================] - 0s 3ms/step - loss: 0.4478 - accuracy: 0.8438\n",
            "Loss : 0.44775548577308655\n",
            "Accuracy : 0.84375\n"
          ]
        }
      ],
      "source": [
        "loss, accuracy = model.evaluate(fmnist_train_ds.repeat(), steps=10)\n",
        "print(\"Loss :\", loss)\n",
        "print(\"Accuracy :\", accuracy)"
      ]
    },
    {
      "cell_type": "markdown",
      "metadata": {
        "id": "aZYhJ_YSIl6w"
      },
      "source": [
        "The labels are not required when calling `Model.predict`."
      ]
    },
    {
      "cell_type": "code",
      "execution_count": 122,
      "metadata": {
        "id": "343lXJ-pIqWD",
        "colab": {
          "base_uri": "https://localhost:8080/"
        },
        "outputId": "4cb4daf2-7716-4c92-9149-01bfb7be528b"
      },
      "outputs": [
        {
          "output_type": "stream",
          "name": "stdout",
          "text": [
            "10/10 [==============================] - 0s 3ms/step\n",
            "(320, 10)\n"
          ]
        }
      ],
      "source": [
        "predict_ds = tf.data.Dataset.from_tensor_slices(images).batch(32)\n",
        "result = model.predict(predict_ds, steps = 10)\n",
        "print(result.shape)"
      ]
    },
    {
      "cell_type": "markdown",
      "metadata": {
        "id": "YfzZORwLI202"
      },
      "source": [
        "But the labels are ignored if you do pass a dataset containing them:"
      ]
    },
    {
      "cell_type": "code",
      "execution_count": 123,
      "metadata": {
        "id": "mgQJTPrT-2WF",
        "colab": {
          "base_uri": "https://localhost:8080/"
        },
        "outputId": "04394a4c-dfb2-4cfd-ac37-f7e6a1638318"
      },
      "outputs": [
        {
          "output_type": "stream",
          "name": "stdout",
          "text": [
            "10/10 [==============================] - 0s 4ms/step\n",
            "(320, 10)\n"
          ]
        }
      ],
      "source": [
        "result = model.predict(fmnist_train_ds, steps = 10)\n",
        "print(result.shape)"
      ]
    },
    {
      "cell_type": "code",
      "source": [],
      "metadata": {
        "id": "H7-lrJRCpkKP"
      },
      "execution_count": 123,
      "outputs": []
    }
  ],
  "metadata": {
    "colab": {
      "collapsed_sections": [],
      "toc_visible": true,
      "provenance": []
    },
    "kernelspec": {
      "display_name": "Python 3",
      "name": "python3"
    }
  },
  "nbformat": 4,
  "nbformat_minor": 0
}